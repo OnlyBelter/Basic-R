{
 "cells": [
  {
   "cell_type": "markdown",
   "metadata": {},
   "source": [
    "## 数据框(DataFrame)\n",
    "数据框这种数据结构是二维的异质性的数据结构，类似于excel，可以保存和处理结构化的表格(tables)。该数据结构也是在数据分析中用的最多的数据结构。Python中数据分析的主力`pandas`也具有这类数据结构，有一些特性是从R中借鉴过去的。\n",
    "\n",
    "**数据框可以看做是一类特殊的列表**，以列为基本单位组织数据。"
   ]
  },
  {
   "cell_type": "markdown",
   "metadata": {},
   "source": [
    "<img src=\"./images/data-structure-compare.png\" />\n",
    "from: http://venus.ifca.unican.es/Rintro/dataStruct.html"
   ]
  },
  {
   "cell_type": "markdown",
   "metadata": {},
   "source": [
    "<img src='./images/data-frame.svg'/>\n",
    "\n",
    "数据框支持不同的列可以是不同类型的数据，from: https://datacarpentry.org/R-ecology-lesson/02-starting-with-data.html"
   ]
  },
  {
   "cell_type": "markdown",
   "metadata": {},
   "source": [
    "### 1. 创建数据框\n",
    "在创建list时，以元素(元素名称+元素值)为单位，将多个向量(或其他数据结构)组织在一起；数据框则是以另一种方式将多个向量(或其他数据结构)组织在一起:\n",
    "- dataframe使用**列**为单位组织数据；\n",
    "- 每一列可以是一个向量或其他数据结构；\n",
    "- 每一列可以是不同的数据类型(例如数值、字符串或逻辑值)；\n",
    "- 列名不能为空，列名和行名不能重复；\n",
    "- 要求每一列数据的长度相等.\n",
    "\n",
    "**warning**: 在数据框中，`字符向量`会自动转换成`因子`，有些时候这会导致一些问题，可以使用下面的语句修改该默认设置。\n",
    "`options(stringsAsFactors = FALSE)`"
   ]
  },
  {
   "cell_type": "markdown",
   "metadata": {},
   "source": [
    "#### 1.1 使用`data.frame()`函数来创建数据框"
   ]
  },
  {
   "cell_type": "code",
   "execution_count": 1,
   "metadata": {},
   "outputs": [],
   "source": [
    "days.name.number <- c(1:7)\n",
    "days.name.full <- c('Monday', 'Tuesday', 'Wednesday', 'Thursday', 'Friday', 'Saturday', 'Sunday')\n",
    "days.name.abbr <- c('Mon.', 'Tue.', 'Wed.', 'Thur.', 'Fri.', 'Sat.', 'Sun.')"
   ]
  },
  {
   "cell_type": "code",
   "execution_count": 2,
   "metadata": {},
   "outputs": [
    {
     "data": {
      "text/html": [
       "<table>\n",
       "<thead><tr><th scope=col>number</th><th scope=col>full</th><th scope=col>abbr</th></tr></thead>\n",
       "<tbody>\n",
       "\t<tr><td>1        </td><td>Monday   </td><td>Mon.     </td></tr>\n",
       "\t<tr><td>2        </td><td>Tuesday  </td><td>Tue.     </td></tr>\n",
       "\t<tr><td>3        </td><td>Wednesday</td><td>Wed.     </td></tr>\n",
       "\t<tr><td>4        </td><td>Thursday </td><td>Thur.    </td></tr>\n",
       "\t<tr><td>5        </td><td>Friday   </td><td>Fri.     </td></tr>\n",
       "\t<tr><td>6        </td><td>Saturday </td><td>Sat.     </td></tr>\n",
       "\t<tr><td>7        </td><td>Sunday   </td><td>Sun.     </td></tr>\n",
       "</tbody>\n",
       "</table>\n"
      ],
      "text/latex": [
       "\\begin{tabular}{r|lll}\n",
       " number & full & abbr\\\\\n",
       "\\hline\n",
       "\t 1         & Monday    & Mon.     \\\\\n",
       "\t 2         & Tuesday   & Tue.     \\\\\n",
       "\t 3         & Wednesday & Wed.     \\\\\n",
       "\t 4         & Thursday  & Thur.    \\\\\n",
       "\t 5         & Friday    & Fri.     \\\\\n",
       "\t 6         & Saturday  & Sat.     \\\\\n",
       "\t 7         & Sunday    & Sun.     \\\\\n",
       "\\end{tabular}\n"
      ],
      "text/markdown": [
       "\n",
       "number | full | abbr | \n",
       "|---|---|---|---|---|---|---|\n",
       "| 1         | Monday    | Mon.      | \n",
       "| 2         | Tuesday   | Tue.      | \n",
       "| 3         | Wednesday | Wed.      | \n",
       "| 4         | Thursday  | Thur.     | \n",
       "| 5         | Friday    | Fri.      | \n",
       "| 6         | Saturday  | Sat.      | \n",
       "| 7         | Sunday    | Sun.      | \n",
       "\n",
       "\n"
      ],
      "text/plain": [
       "  number full      abbr \n",
       "1 1      Monday    Mon. \n",
       "2 2      Tuesday   Tue. \n",
       "3 3      Wednesday Wed. \n",
       "4 4      Thursday  Thur.\n",
       "5 5      Friday    Fri. \n",
       "6 6      Saturday  Sat. \n",
       "7 7      Sunday    Sun. "
      ]
     },
     "metadata": {},
     "output_type": "display_data"
    }
   ],
   "source": [
    "options(stringsAsFactors = FALSE)  # 修改默认设置\n",
    "days.name.df <- data.frame('number'=days.name.number, 'full'=days.name.full, 'abbr'=days.name.abbr)\n",
    "days.name.df"
   ]
  },
  {
   "cell_type": "markdown",
   "metadata": {},
   "source": [
    "#### 1.2 从文件中读取数据到数据框"
   ]
  },
  {
   "cell_type": "code",
   "execution_count": 3,
   "metadata": {},
   "outputs": [],
   "source": [
    "data('iris')  # 从内置数据集中加载iris数据集"
   ]
  },
  {
   "cell_type": "code",
   "execution_count": 4,
   "metadata": {},
   "outputs": [],
   "source": [
    "write.table(iris, './data/iris.csv', col.names = TRUE, sep = ',')  # 保存该数据集"
   ]
  },
  {
   "cell_type": "code",
   "execution_count": 5,
   "metadata": {},
   "outputs": [],
   "source": [
    "options(stringsAsFactors = FALSE)  # 修改默认设置\n",
    "iris.new <- read.csv('./data//iris.csv', header = TRUE)  # 默认将表格文件读入到数据框"
   ]
  },
  {
   "cell_type": "code",
   "execution_count": 6,
   "metadata": {},
   "outputs": [
    {
     "data": {
      "text/html": [
       "'data.frame'"
      ],
      "text/latex": [
       "'data.frame'"
      ],
      "text/markdown": [
       "'data.frame'"
      ],
      "text/plain": [
       "[1] \"data.frame\""
      ]
     },
     "metadata": {},
     "output_type": "display_data"
    }
   ],
   "source": [
    "class(iris.new)"
   ]
  },
  {
   "cell_type": "code",
   "execution_count": 7,
   "metadata": {},
   "outputs": [
    {
     "data": {
      "text/html": [
       "<table>\n",
       "<thead><tr><th scope=col>Sepal.Length</th><th scope=col>Sepal.Width</th><th scope=col>Petal.Length</th><th scope=col>Petal.Width</th><th scope=col>Species</th></tr></thead>\n",
       "<tbody>\n",
       "\t<tr><td>5.1   </td><td>3.5   </td><td>1.4   </td><td>0.2   </td><td>setosa</td></tr>\n",
       "\t<tr><td>4.9   </td><td>3.0   </td><td>1.4   </td><td>0.2   </td><td>setosa</td></tr>\n",
       "\t<tr><td>4.7   </td><td>3.2   </td><td>1.3   </td><td>0.2   </td><td>setosa</td></tr>\n",
       "\t<tr><td>4.6   </td><td>3.1   </td><td>1.5   </td><td>0.2   </td><td>setosa</td></tr>\n",
       "\t<tr><td>5.0   </td><td>3.6   </td><td>1.4   </td><td>0.2   </td><td>setosa</td></tr>\n",
       "\t<tr><td>5.4   </td><td>3.9   </td><td>1.7   </td><td>0.4   </td><td>setosa</td></tr>\n",
       "</tbody>\n",
       "</table>\n"
      ],
      "text/latex": [
       "\\begin{tabular}{r|lllll}\n",
       " Sepal.Length & Sepal.Width & Petal.Length & Petal.Width & Species\\\\\n",
       "\\hline\n",
       "\t 5.1    & 3.5    & 1.4    & 0.2    & setosa\\\\\n",
       "\t 4.9    & 3.0    & 1.4    & 0.2    & setosa\\\\\n",
       "\t 4.7    & 3.2    & 1.3    & 0.2    & setosa\\\\\n",
       "\t 4.6    & 3.1    & 1.5    & 0.2    & setosa\\\\\n",
       "\t 5.0    & 3.6    & 1.4    & 0.2    & setosa\\\\\n",
       "\t 5.4    & 3.9    & 1.7    & 0.4    & setosa\\\\\n",
       "\\end{tabular}\n"
      ],
      "text/markdown": [
       "\n",
       "Sepal.Length | Sepal.Width | Petal.Length | Petal.Width | Species | \n",
       "|---|---|---|---|---|---|\n",
       "| 5.1    | 3.5    | 1.4    | 0.2    | setosa | \n",
       "| 4.9    | 3.0    | 1.4    | 0.2    | setosa | \n",
       "| 4.7    | 3.2    | 1.3    | 0.2    | setosa | \n",
       "| 4.6    | 3.1    | 1.5    | 0.2    | setosa | \n",
       "| 5.0    | 3.6    | 1.4    | 0.2    | setosa | \n",
       "| 5.4    | 3.9    | 1.7    | 0.4    | setosa | \n",
       "\n",
       "\n"
      ],
      "text/plain": [
       "  Sepal.Length Sepal.Width Petal.Length Petal.Width Species\n",
       "1 5.1          3.5         1.4          0.2         setosa \n",
       "2 4.9          3.0         1.4          0.2         setosa \n",
       "3 4.7          3.2         1.3          0.2         setosa \n",
       "4 4.6          3.1         1.5          0.2         setosa \n",
       "5 5.0          3.6         1.4          0.2         setosa \n",
       "6 5.4          3.9         1.7          0.4         setosa "
      ]
     },
     "metadata": {},
     "output_type": "display_data"
    }
   ],
   "source": [
    "head(iris.new)"
   ]
  },
  {
   "cell_type": "markdown",
   "metadata": {},
   "source": [
    "#### 1.3 由矩阵生成"
   ]
  },
  {
   "cell_type": "code",
   "execution_count": 8,
   "metadata": {},
   "outputs": [
    {
     "data": {
      "text/html": [
       "<table>\n",
       "<tbody>\n",
       "\t<tr><td>1</td><td>4</td><td>7</td></tr>\n",
       "\t<tr><td>2</td><td>5</td><td>8</td></tr>\n",
       "\t<tr><td>3</td><td>6</td><td>9</td></tr>\n",
       "</tbody>\n",
       "</table>\n"
      ],
      "text/latex": [
       "\\begin{tabular}{lll}\n",
       "\t 1 & 4 & 7\\\\\n",
       "\t 2 & 5 & 8\\\\\n",
       "\t 3 & 6 & 9\\\\\n",
       "\\end{tabular}\n"
      ],
      "text/markdown": [
       "\n",
       "| 1 | 4 | 7 | \n",
       "| 2 | 5 | 8 | \n",
       "| 3 | 6 | 9 | \n",
       "\n",
       "\n"
      ],
      "text/plain": [
       "     [,1] [,2] [,3]\n",
       "[1,] 1    4    7   \n",
       "[2,] 2    5    8   \n",
       "[3,] 3    6    9   "
      ]
     },
     "metadata": {},
     "output_type": "display_data"
    }
   ],
   "source": [
    "a <- 1:9\n",
    "dim(a) <- c(3,3)\n",
    "a"
   ]
  },
  {
   "cell_type": "code",
   "execution_count": 9,
   "metadata": {},
   "outputs": [
    {
     "data": {
      "text/html": [
       "<table>\n",
       "<thead><tr><th scope=col>V1</th><th scope=col>V2</th><th scope=col>V3</th></tr></thead>\n",
       "<tbody>\n",
       "\t<tr><td>1</td><td>4</td><td>7</td></tr>\n",
       "\t<tr><td>2</td><td>5</td><td>8</td></tr>\n",
       "\t<tr><td>3</td><td>6</td><td>9</td></tr>\n",
       "</tbody>\n",
       "</table>\n"
      ],
      "text/latex": [
       "\\begin{tabular}{r|lll}\n",
       " V1 & V2 & V3\\\\\n",
       "\\hline\n",
       "\t 1 & 4 & 7\\\\\n",
       "\t 2 & 5 & 8\\\\\n",
       "\t 3 & 6 & 9\\\\\n",
       "\\end{tabular}\n"
      ],
      "text/markdown": [
       "\n",
       "V1 | V2 | V3 | \n",
       "|---|---|---|\n",
       "| 1 | 4 | 7 | \n",
       "| 2 | 5 | 8 | \n",
       "| 3 | 6 | 9 | \n",
       "\n",
       "\n"
      ],
      "text/plain": [
       "  V1 V2 V3\n",
       "1 1  4  7 \n",
       "2 2  5  8 \n",
       "3 3  6  9 "
      ]
     },
     "metadata": {},
     "output_type": "display_data"
    }
   ],
   "source": [
    "a.df <- as.data.frame(a)  # 将矩阵转化成数据框，并自动添加列名`V1-V3`\n",
    "a.df"
   ]
  },
  {
   "cell_type": "markdown",
   "metadata": {},
   "source": [
    "### 2. 数据框的属性\n",
    "由于数据框是一类特殊的列表，因此列表具有的属性数据框都有，此外数据框还具有一些特有的属性。"
   ]
  },
  {
   "cell_type": "code",
   "execution_count": 10,
   "metadata": {},
   "outputs": [
    {
     "data": {
      "text/html": [
       "'list'"
      ],
      "text/latex": [
       "'list'"
      ],
      "text/markdown": [
       "'list'"
      ],
      "text/plain": [
       "[1] \"list\""
      ]
     },
     "metadata": {},
     "output_type": "display_data"
    }
   ],
   "source": [
    "mode(days.name.df)  # dataframe也可以看成是一种特殊的列表"
   ]
  },
  {
   "cell_type": "code",
   "execution_count": 11,
   "metadata": {},
   "outputs": [
    {
     "data": {
      "text/html": [
       "'data.frame'"
      ],
      "text/latex": [
       "'data.frame'"
      ],
      "text/markdown": [
       "'data.frame'"
      ],
      "text/plain": [
       "[1] \"data.frame\""
      ]
     },
     "metadata": {},
     "output_type": "display_data"
    }
   ],
   "source": [
    "class(days.name.df)  # 使用这种方法可以更准确的得到数据框的类型信息"
   ]
  },
  {
   "cell_type": "code",
   "execution_count": 12,
   "metadata": {},
   "outputs": [
    {
     "data": {
      "text/html": [
       "<ol class=list-inline>\n",
       "\t<li>7</li>\n",
       "\t<li>3</li>\n",
       "</ol>\n"
      ],
      "text/latex": [
       "\\begin{enumerate*}\n",
       "\\item 7\n",
       "\\item 3\n",
       "\\end{enumerate*}\n"
      ],
      "text/markdown": [
       "1. 7\n",
       "2. 3\n",
       "\n",
       "\n"
      ],
      "text/plain": [
       "[1] 7 3"
      ]
     },
     "metadata": {},
     "output_type": "display_data"
    }
   ],
   "source": [
    "dim(days.name.df)  # 行数和列数"
   ]
  },
  {
   "cell_type": "code",
   "execution_count": 13,
   "metadata": {},
   "outputs": [
    {
     "data": {
      "text/html": [
       "150"
      ],
      "text/latex": [
       "150"
      ],
      "text/markdown": [
       "150"
      ],
      "text/plain": [
       "[1] 150"
      ]
     },
     "metadata": {},
     "output_type": "display_data"
    }
   ],
   "source": [
    "nrow(iris.new)  # 行数"
   ]
  },
  {
   "cell_type": "code",
   "execution_count": 14,
   "metadata": {},
   "outputs": [
    {
     "data": {
      "text/html": [
       "5"
      ],
      "text/latex": [
       "5"
      ],
      "text/markdown": [
       "5"
      ],
      "text/plain": [
       "[1] 5"
      ]
     },
     "metadata": {},
     "output_type": "display_data"
    }
   ],
   "source": [
    "ncol(iris.new)  # 列数"
   ]
  },
  {
   "cell_type": "code",
   "execution_count": 15,
   "metadata": {},
   "outputs": [
    {
     "data": {
      "text/html": [
       "3"
      ],
      "text/latex": [
       "3"
      ],
      "text/markdown": [
       "3"
      ],
      "text/plain": [
       "[1] 3"
      ]
     },
     "metadata": {},
     "output_type": "display_data"
    }
   ],
   "source": [
    "length(days.name.df)  # 列数"
   ]
  },
  {
   "cell_type": "code",
   "execution_count": 16,
   "metadata": {},
   "outputs": [
    {
     "data": {
      "text/html": [
       "<ol class=list-inline>\n",
       "\t<li>'number'</li>\n",
       "\t<li>'full'</li>\n",
       "\t<li>'abbr'</li>\n",
       "</ol>\n"
      ],
      "text/latex": [
       "\\begin{enumerate*}\n",
       "\\item 'number'\n",
       "\\item 'full'\n",
       "\\item 'abbr'\n",
       "\\end{enumerate*}\n"
      ],
      "text/markdown": [
       "1. 'number'\n",
       "2. 'full'\n",
       "3. 'abbr'\n",
       "\n",
       "\n"
      ],
      "text/plain": [
       "[1] \"number\" \"full\"   \"abbr\"  "
      ]
     },
     "metadata": {},
     "output_type": "display_data"
    }
   ],
   "source": [
    "names(days.name.df)  # 列名"
   ]
  },
  {
   "cell_type": "code",
   "execution_count": 17,
   "metadata": {},
   "outputs": [
    {
     "data": {
      "text/html": [
       "<ol class=list-inline>\n",
       "\t<li>'1'</li>\n",
       "\t<li>'2'</li>\n",
       "\t<li>'3'</li>\n",
       "\t<li>'4'</li>\n",
       "\t<li>'5'</li>\n",
       "\t<li>'6'</li>\n",
       "\t<li>'7'</li>\n",
       "</ol>\n"
      ],
      "text/latex": [
       "\\begin{enumerate*}\n",
       "\\item '1'\n",
       "\\item '2'\n",
       "\\item '3'\n",
       "\\item '4'\n",
       "\\item '5'\n",
       "\\item '6'\n",
       "\\item '7'\n",
       "\\end{enumerate*}\n"
      ],
      "text/markdown": [
       "1. '1'\n",
       "2. '2'\n",
       "3. '3'\n",
       "4. '4'\n",
       "5. '5'\n",
       "6. '6'\n",
       "7. '7'\n",
       "\n",
       "\n"
      ],
      "text/plain": [
       "[1] \"1\" \"2\" \"3\" \"4\" \"5\" \"6\" \"7\""
      ]
     },
     "metadata": {},
     "output_type": "display_data"
    }
   ],
   "source": [
    "rownames(days.name.df)  # 行名"
   ]
  },
  {
   "cell_type": "code",
   "execution_count": 18,
   "metadata": {},
   "outputs": [
    {
     "name": "stdout",
     "output_type": "stream",
     "text": [
      "'data.frame':\t7 obs. of  3 variables:\n",
      " $ number: int  1 2 3 4 5 6 7\n",
      " $ full  : chr  \"Monday\" \"Tuesday\" \"Wednesday\" \"Thursday\" ...\n",
      " $ abbr  : chr  \"Mon.\" \"Tue.\" \"Wed.\" \"Thur.\" ...\n"
     ]
    }
   ],
   "source": [
    "str(days.name.df)  # 数据框的内部结构"
   ]
  },
  {
   "cell_type": "markdown",
   "metadata": {},
   "source": [
    "### 3. 数据框取值\n",
    "因为数据框是一种特殊的列表，因此列表的取值方式同样适合数据框"
   ]
  },
  {
   "cell_type": "code",
   "execution_count": 19,
   "metadata": {},
   "outputs": [
    {
     "data": {
      "text/html": [
       "<ol class=list-inline>\n",
       "\t<li>'Sepal.Length'</li>\n",
       "\t<li>'Sepal.Width'</li>\n",
       "\t<li>'Petal.Length'</li>\n",
       "\t<li>'Petal.Width'</li>\n",
       "\t<li>'Species'</li>\n",
       "</ol>\n"
      ],
      "text/latex": [
       "\\begin{enumerate*}\n",
       "\\item 'Sepal.Length'\n",
       "\\item 'Sepal.Width'\n",
       "\\item 'Petal.Length'\n",
       "\\item 'Petal.Width'\n",
       "\\item 'Species'\n",
       "\\end{enumerate*}\n"
      ],
      "text/markdown": [
       "1. 'Sepal.Length'\n",
       "2. 'Sepal.Width'\n",
       "3. 'Petal.Length'\n",
       "4. 'Petal.Width'\n",
       "5. 'Species'\n",
       "\n",
       "\n"
      ],
      "text/plain": [
       "[1] \"Sepal.Length\" \"Sepal.Width\"  \"Petal.Length\" \"Petal.Width\"  \"Species\"     "
      ]
     },
     "metadata": {},
     "output_type": "display_data"
    }
   ],
   "source": [
    "names(iris.new)"
   ]
  },
  {
   "cell_type": "code",
   "execution_count": 20,
   "metadata": {},
   "outputs": [
    {
     "name": "stdout",
     "output_type": "stream",
     "text": [
      "1.4 1.4 1.3 1.5 1.4 1.7 1.4 1.5 1.4 1.5 1.5 1.6 1.4 1.1 1.2 1.5 1.3 1.4 1.7 1.5 1.7 1.5 1 1.7 1.9 1.6 1.6 1.5 1.4 1.6 1.6 1.5 1.5 1.4 1.5 1.2 1.3 1.4 1.3 1.5 1.3 1.3 1.3 1.6 1.9 1.4 1.6 1.4 1.5 1.4 4.7 4.5 4.9 4 4.6 4.5 4.7 3.3 4.6 3.9 3.5 4.2 4 4.7 3.6 4.4 4.5 4.1 4.5 3.9 4.8 4 4.9 4.7 4.3 4.4 4.8 5 4.5 3.5 3.8 3.7 3.9 5.1 4.5 4.5 4.7 4.4 4.1 4 4.4 4.6 4 3.3 4.2 4.2 4.2 4.3 3 4.1 6 5.1 5.9 5.6 5.8 6.6 4.5 6.3 5.8 6.1 5.1 5.3 5.5 5 5.1 5.3 5.5 6.7 6.9 5 5.7 4.9 6.7 4.9 5.7 6 4.8 4.9 5.6 5.8 6.1 6.4 5.6 5.1 5.6 6.1 5.6 5.5 4.8 5.4 5.6 5.1 5.1 5.9 5.7 5.2 5 5.2 5.4 5.1"
     ]
    }
   ],
   "source": [
    "cat(iris.new$Petal.Length)  # 使用列名，获取对应列的值"
   ]
  },
  {
   "cell_type": "markdown",
   "metadata": {},
   "source": [
    "数据框保存的是表格数据，因此也可以像矩阵那样使用`行号`来获取数据"
   ]
  },
  {
   "cell_type": "code",
   "execution_count": 21,
   "metadata": {},
   "outputs": [
    {
     "data": {
      "text/html": [
       "<table>\n",
       "<thead><tr><th scope=col>Sepal.Length</th><th scope=col>Sepal.Width</th><th scope=col>Petal.Length</th><th scope=col>Petal.Width</th><th scope=col>Species</th></tr></thead>\n",
       "<tbody>\n",
       "\t<tr><td>5.1   </td><td>3.5   </td><td>1.4   </td><td>0.2   </td><td>setosa</td></tr>\n",
       "</tbody>\n",
       "</table>\n"
      ],
      "text/latex": [
       "\\begin{tabular}{r|lllll}\n",
       " Sepal.Length & Sepal.Width & Petal.Length & Petal.Width & Species\\\\\n",
       "\\hline\n",
       "\t 5.1    & 3.5    & 1.4    & 0.2    & setosa\\\\\n",
       "\\end{tabular}\n"
      ],
      "text/markdown": [
       "\n",
       "Sepal.Length | Sepal.Width | Petal.Length | Petal.Width | Species | \n",
       "|---|\n",
       "| 5.1    | 3.5    | 1.4    | 0.2    | setosa | \n",
       "\n",
       "\n"
      ],
      "text/plain": [
       "  Sepal.Length Sepal.Width Petal.Length Petal.Width Species\n",
       "1 5.1          3.5         1.4          0.2         setosa "
      ]
     },
     "metadata": {},
     "output_type": "display_data"
    }
   ],
   "source": [
    "iris.new[1,]  # 使用行号，获取对应行的值，这里的“,”是必须的，逗号前表示行号(或名称)，逗号之后表示列号(或名称)"
   ]
  },
  {
   "cell_type": "code",
   "execution_count": 22,
   "metadata": {},
   "outputs": [
    {
     "data": {
      "text/html": [
       "<table>\n",
       "<thead><tr><th scope=col>Sepal.Length</th></tr></thead>\n",
       "<tbody>\n",
       "\t<tr><td>5.1</td></tr>\n",
       "\t<tr><td>4.9</td></tr>\n",
       "\t<tr><td>4.7</td></tr>\n",
       "\t<tr><td>4.6</td></tr>\n",
       "\t<tr><td>5.0</td></tr>\n",
       "\t<tr><td>5.4</td></tr>\n",
       "</tbody>\n",
       "</table>\n"
      ],
      "text/latex": [
       "\\begin{tabular}{r|l}\n",
       " Sepal.Length\\\\\n",
       "\\hline\n",
       "\t 5.1\\\\\n",
       "\t 4.9\\\\\n",
       "\t 4.7\\\\\n",
       "\t 4.6\\\\\n",
       "\t 5.0\\\\\n",
       "\t 5.4\\\\\n",
       "\\end{tabular}\n"
      ],
      "text/markdown": [
       "\n",
       "Sepal.Length | \n",
       "|---|---|---|---|---|---|\n",
       "| 5.1 | \n",
       "| 4.9 | \n",
       "| 4.7 | \n",
       "| 4.6 | \n",
       "| 5.0 | \n",
       "| 5.4 | \n",
       "\n",
       "\n"
      ],
      "text/plain": [
       "  Sepal.Length\n",
       "1 5.1         \n",
       "2 4.9         \n",
       "3 4.7         \n",
       "4 4.6         \n",
       "5 5.0         \n",
       "6 5.4         "
      ]
     },
     "metadata": {},
     "output_type": "display_data"
    }
   ],
   "source": [
    "head(iris.new[1])  # 第一列的值"
   ]
  },
  {
   "cell_type": "code",
   "execution_count": 23,
   "metadata": {},
   "outputs": [
    {
     "data": {
      "text/html": [
       "<table>\n",
       "<thead><tr><th></th><th scope=col>Sepal.Length</th><th scope=col>Sepal.Width</th><th scope=col>Petal.Length</th><th scope=col>Petal.Width</th><th scope=col>Species</th></tr></thead>\n",
       "<tbody>\n",
       "\t<tr><th scope=row>3</th><td>4.7   </td><td>3.2   </td><td>1.3   </td><td>0.2   </td><td>setosa</td></tr>\n",
       "\t<tr><th scope=row>4</th><td>4.6   </td><td>3.1   </td><td>1.5   </td><td>0.2   </td><td>setosa</td></tr>\n",
       "\t<tr><th scope=row>5</th><td>5.0   </td><td>3.6   </td><td>1.4   </td><td>0.2   </td><td>setosa</td></tr>\n",
       "\t<tr><th scope=row>6</th><td>5.4   </td><td>3.9   </td><td>1.7   </td><td>0.4   </td><td>setosa</td></tr>\n",
       "</tbody>\n",
       "</table>\n"
      ],
      "text/latex": [
       "\\begin{tabular}{r|lllll}\n",
       "  & Sepal.Length & Sepal.Width & Petal.Length & Petal.Width & Species\\\\\n",
       "\\hline\n",
       "\t3 & 4.7    & 3.2    & 1.3    & 0.2    & setosa\\\\\n",
       "\t4 & 4.6    & 3.1    & 1.5    & 0.2    & setosa\\\\\n",
       "\t5 & 5.0    & 3.6    & 1.4    & 0.2    & setosa\\\\\n",
       "\t6 & 5.4    & 3.9    & 1.7    & 0.4    & setosa\\\\\n",
       "\\end{tabular}\n"
      ],
      "text/markdown": [
       "\n",
       "| <!--/--> | Sepal.Length | Sepal.Width | Petal.Length | Petal.Width | Species | \n",
       "|---|---|---|---|\n",
       "| 3 | 4.7    | 3.2    | 1.3    | 0.2    | setosa | \n",
       "| 4 | 4.6    | 3.1    | 1.5    | 0.2    | setosa | \n",
       "| 5 | 5.0    | 3.6    | 1.4    | 0.2    | setosa | \n",
       "| 6 | 5.4    | 3.9    | 1.7    | 0.4    | setosa | \n",
       "\n",
       "\n"
      ],
      "text/plain": [
       "  Sepal.Length Sepal.Width Petal.Length Petal.Width Species\n",
       "3 4.7          3.2         1.3          0.2         setosa \n",
       "4 4.6          3.1         1.5          0.2         setosa \n",
       "5 5.0          3.6         1.4          0.2         setosa \n",
       "6 5.4          3.9         1.7          0.4         setosa "
      ]
     },
     "metadata": {},
     "output_type": "display_data"
    }
   ],
   "source": [
    "iris.new[3:6,]  # 数据框的切片"
   ]
  },
  {
   "cell_type": "code",
   "execution_count": 24,
   "metadata": {},
   "outputs": [
    {
     "data": {
      "text/html": [
       "<table>\n",
       "<thead><tr><th></th><th scope=col>Sepal.Length</th><th scope=col>Species</th></tr></thead>\n",
       "<tbody>\n",
       "\t<tr><th scope=row>3</th><td>4.7   </td><td>setosa</td></tr>\n",
       "\t<tr><th scope=row>4</th><td>4.6   </td><td>setosa</td></tr>\n",
       "\t<tr><th scope=row>5</th><td>5.0   </td><td>setosa</td></tr>\n",
       "\t<tr><th scope=row>6</th><td>5.4   </td><td>setosa</td></tr>\n",
       "</tbody>\n",
       "</table>\n"
      ],
      "text/latex": [
       "\\begin{tabular}{r|ll}\n",
       "  & Sepal.Length & Species\\\\\n",
       "\\hline\n",
       "\t3 & 4.7    & setosa\\\\\n",
       "\t4 & 4.6    & setosa\\\\\n",
       "\t5 & 5.0    & setosa\\\\\n",
       "\t6 & 5.4    & setosa\\\\\n",
       "\\end{tabular}\n"
      ],
      "text/markdown": [
       "\n",
       "| <!--/--> | Sepal.Length | Species | \n",
       "|---|---|---|---|\n",
       "| 3 | 4.7    | setosa | \n",
       "| 4 | 4.6    | setosa | \n",
       "| 5 | 5.0    | setosa | \n",
       "| 6 | 5.4    | setosa | \n",
       "\n",
       "\n"
      ],
      "text/plain": [
       "  Sepal.Length Species\n",
       "3 4.7          setosa \n",
       "4 4.6          setosa \n",
       "5 5.0          setosa \n",
       "6 5.4          setosa "
      ]
     },
     "metadata": {},
     "output_type": "display_data"
    }
   ],
   "source": [
    "iris.new[3:6, c(1,5)]  # 也可以使用默认的列号来获取对应列的值"
   ]
  },
  {
   "cell_type": "markdown",
   "metadata": {},
   "source": [
    "### 4. 对数据框的其他操作\n"
   ]
  },
  {
   "cell_type": "markdown",
   "metadata": {},
   "source": [
    "#### 4.1 修改列名和行名\n",
    "在创建数据框时，列名需要明确指定，行名默认为数字"
   ]
  },
  {
   "cell_type": "code",
   "execution_count": 25,
   "metadata": {},
   "outputs": [
    {
     "data": {
      "text/html": [
       "<ol class=list-inline>\n",
       "\t<li>'Sepal.Length'</li>\n",
       "\t<li>'Sepal.Width'</li>\n",
       "\t<li>'Petal.Length'</li>\n",
       "\t<li>'Petal.Width'</li>\n",
       "\t<li>'Species'</li>\n",
       "</ol>\n"
      ],
      "text/latex": [
       "\\begin{enumerate*}\n",
       "\\item 'Sepal.Length'\n",
       "\\item 'Sepal.Width'\n",
       "\\item 'Petal.Length'\n",
       "\\item 'Petal.Width'\n",
       "\\item 'Species'\n",
       "\\end{enumerate*}\n"
      ],
      "text/markdown": [
       "1. 'Sepal.Length'\n",
       "2. 'Sepal.Width'\n",
       "3. 'Petal.Length'\n",
       "4. 'Petal.Width'\n",
       "5. 'Species'\n",
       "\n",
       "\n"
      ],
      "text/plain": [
       "[1] \"Sepal.Length\" \"Sepal.Width\"  \"Petal.Length\" \"Petal.Width\"  \"Species\"     "
      ]
     },
     "metadata": {},
     "output_type": "display_data"
    }
   ],
   "source": [
    "names(iris.new)"
   ]
  },
  {
   "cell_type": "code",
   "execution_count": 26,
   "metadata": {},
   "outputs": [],
   "source": [
    "names(iris.new) <- c('sepal_length', 'sepal_width', 'petal_length', 'petal_width', 'SPEcies')"
   ]
  },
  {
   "cell_type": "code",
   "execution_count": 27,
   "metadata": {},
   "outputs": [
    {
     "data": {
      "text/html": [
       "<table>\n",
       "<thead><tr><th scope=col>sepal_length</th><th scope=col>sepal_width</th><th scope=col>petal_length</th><th scope=col>petal_width</th><th scope=col>SPEcies</th></tr></thead>\n",
       "<tbody>\n",
       "\t<tr><td>5.1   </td><td>3.5   </td><td>1.4   </td><td>0.2   </td><td>setosa</td></tr>\n",
       "\t<tr><td>4.9   </td><td>3.0   </td><td>1.4   </td><td>0.2   </td><td>setosa</td></tr>\n",
       "\t<tr><td>4.7   </td><td>3.2   </td><td>1.3   </td><td>0.2   </td><td>setosa</td></tr>\n",
       "\t<tr><td>4.6   </td><td>3.1   </td><td>1.5   </td><td>0.2   </td><td>setosa</td></tr>\n",
       "\t<tr><td>5.0   </td><td>3.6   </td><td>1.4   </td><td>0.2   </td><td>setosa</td></tr>\n",
       "\t<tr><td>5.4   </td><td>3.9   </td><td>1.7   </td><td>0.4   </td><td>setosa</td></tr>\n",
       "</tbody>\n",
       "</table>\n"
      ],
      "text/latex": [
       "\\begin{tabular}{r|lllll}\n",
       " sepal\\_length & sepal\\_width & petal\\_length & petal\\_width & SPEcies\\\\\n",
       "\\hline\n",
       "\t 5.1    & 3.5    & 1.4    & 0.2    & setosa\\\\\n",
       "\t 4.9    & 3.0    & 1.4    & 0.2    & setosa\\\\\n",
       "\t 4.7    & 3.2    & 1.3    & 0.2    & setosa\\\\\n",
       "\t 4.6    & 3.1    & 1.5    & 0.2    & setosa\\\\\n",
       "\t 5.0    & 3.6    & 1.4    & 0.2    & setosa\\\\\n",
       "\t 5.4    & 3.9    & 1.7    & 0.4    & setosa\\\\\n",
       "\\end{tabular}\n"
      ],
      "text/markdown": [
       "\n",
       "sepal_length | sepal_width | petal_length | petal_width | SPEcies | \n",
       "|---|---|---|---|---|---|\n",
       "| 5.1    | 3.5    | 1.4    | 0.2    | setosa | \n",
       "| 4.9    | 3.0    | 1.4    | 0.2    | setosa | \n",
       "| 4.7    | 3.2    | 1.3    | 0.2    | setosa | \n",
       "| 4.6    | 3.1    | 1.5    | 0.2    | setosa | \n",
       "| 5.0    | 3.6    | 1.4    | 0.2    | setosa | \n",
       "| 5.4    | 3.9    | 1.7    | 0.4    | setosa | \n",
       "\n",
       "\n"
      ],
      "text/plain": [
       "  sepal_length sepal_width petal_length petal_width SPEcies\n",
       "1 5.1          3.5         1.4          0.2         setosa \n",
       "2 4.9          3.0         1.4          0.2         setosa \n",
       "3 4.7          3.2         1.3          0.2         setosa \n",
       "4 4.6          3.1         1.5          0.2         setosa \n",
       "5 5.0          3.6         1.4          0.2         setosa \n",
       "6 5.4          3.9         1.7          0.4         setosa "
      ]
     },
     "metadata": {},
     "output_type": "display_data"
    }
   ],
   "source": [
    "head(iris.new)"
   ]
  },
  {
   "cell_type": "code",
   "execution_count": 28,
   "metadata": {},
   "outputs": [],
   "source": [
    "names(iris.new)[5] <- 'species'  # 修改单个列名"
   ]
  },
  {
   "cell_type": "code",
   "execution_count": 29,
   "metadata": {},
   "outputs": [
    {
     "data": {
      "text/html": [
       "<table>\n",
       "<thead><tr><th scope=col>sepal_length</th><th scope=col>sepal_width</th><th scope=col>petal_length</th><th scope=col>petal_width</th><th scope=col>species</th></tr></thead>\n",
       "<tbody>\n",
       "\t<tr><td>5.1   </td><td>3.5   </td><td>1.4   </td><td>0.2   </td><td>setosa</td></tr>\n",
       "\t<tr><td>4.9   </td><td>3.0   </td><td>1.4   </td><td>0.2   </td><td>setosa</td></tr>\n",
       "\t<tr><td>4.7   </td><td>3.2   </td><td>1.3   </td><td>0.2   </td><td>setosa</td></tr>\n",
       "\t<tr><td>4.6   </td><td>3.1   </td><td>1.5   </td><td>0.2   </td><td>setosa</td></tr>\n",
       "\t<tr><td>5.0   </td><td>3.6   </td><td>1.4   </td><td>0.2   </td><td>setosa</td></tr>\n",
       "\t<tr><td>5.4   </td><td>3.9   </td><td>1.7   </td><td>0.4   </td><td>setosa</td></tr>\n",
       "</tbody>\n",
       "</table>\n"
      ],
      "text/latex": [
       "\\begin{tabular}{r|lllll}\n",
       " sepal\\_length & sepal\\_width & petal\\_length & petal\\_width & species\\\\\n",
       "\\hline\n",
       "\t 5.1    & 3.5    & 1.4    & 0.2    & setosa\\\\\n",
       "\t 4.9    & 3.0    & 1.4    & 0.2    & setosa\\\\\n",
       "\t 4.7    & 3.2    & 1.3    & 0.2    & setosa\\\\\n",
       "\t 4.6    & 3.1    & 1.5    & 0.2    & setosa\\\\\n",
       "\t 5.0    & 3.6    & 1.4    & 0.2    & setosa\\\\\n",
       "\t 5.4    & 3.9    & 1.7    & 0.4    & setosa\\\\\n",
       "\\end{tabular}\n"
      ],
      "text/markdown": [
       "\n",
       "sepal_length | sepal_width | petal_length | petal_width | species | \n",
       "|---|---|---|---|---|---|\n",
       "| 5.1    | 3.5    | 1.4    | 0.2    | setosa | \n",
       "| 4.9    | 3.0    | 1.4    | 0.2    | setosa | \n",
       "| 4.7    | 3.2    | 1.3    | 0.2    | setosa | \n",
       "| 4.6    | 3.1    | 1.5    | 0.2    | setosa | \n",
       "| 5.0    | 3.6    | 1.4    | 0.2    | setosa | \n",
       "| 5.4    | 3.9    | 1.7    | 0.4    | setosa | \n",
       "\n",
       "\n"
      ],
      "text/plain": [
       "  sepal_length sepal_width petal_length petal_width species\n",
       "1 5.1          3.5         1.4          0.2         setosa \n",
       "2 4.9          3.0         1.4          0.2         setosa \n",
       "3 4.7          3.2         1.3          0.2         setosa \n",
       "4 4.6          3.1         1.5          0.2         setosa \n",
       "5 5.0          3.6         1.4          0.2         setosa \n",
       "6 5.4          3.9         1.7          0.4         setosa "
      ]
     },
     "metadata": {},
     "output_type": "display_data"
    }
   ],
   "source": [
    "head(iris.new)"
   ]
  },
  {
   "cell_type": "code",
   "execution_count": 30,
   "metadata": {},
   "outputs": [
    {
     "data": {
      "text/html": [
       "<ol class=list-inline>\n",
       "\t<li>'1'</li>\n",
       "\t<li>'2'</li>\n",
       "\t<li>'3'</li>\n",
       "\t<li>'4'</li>\n",
       "\t<li>'5'</li>\n",
       "\t<li>'6'</li>\n",
       "\t<li>'7'</li>\n",
       "</ol>\n"
      ],
      "text/latex": [
       "\\begin{enumerate*}\n",
       "\\item '1'\n",
       "\\item '2'\n",
       "\\item '3'\n",
       "\\item '4'\n",
       "\\item '5'\n",
       "\\item '6'\n",
       "\\item '7'\n",
       "\\end{enumerate*}\n"
      ],
      "text/markdown": [
       "1. '1'\n",
       "2. '2'\n",
       "3. '3'\n",
       "4. '4'\n",
       "5. '5'\n",
       "6. '6'\n",
       "7. '7'\n",
       "\n",
       "\n"
      ],
      "text/plain": [
       "[1] \"1\" \"2\" \"3\" \"4\" \"5\" \"6\" \"7\""
      ]
     },
     "metadata": {},
     "output_type": "display_data"
    }
   ],
   "source": [
    "rownames(days.name.df)"
   ]
  },
  {
   "cell_type": "code",
   "execution_count": 31,
   "metadata": {},
   "outputs": [
    {
     "data": {
      "text/html": [
       "<table>\n",
       "<thead><tr><th></th><th scope=col>number</th><th scope=col>full</th><th scope=col>abbr</th></tr></thead>\n",
       "<tbody>\n",
       "\t<tr><th scope=row>1st</th><td>1        </td><td>Monday   </td><td>Mon.     </td></tr>\n",
       "\t<tr><th scope=row>2nd</th><td>2        </td><td>Tuesday  </td><td>Tue.     </td></tr>\n",
       "\t<tr><th scope=row>3rd</th><td>3        </td><td>Wednesday</td><td>Wed.     </td></tr>\n",
       "\t<tr><th scope=row>4th</th><td>4        </td><td>Thursday </td><td>Thur.    </td></tr>\n",
       "\t<tr><th scope=row>5th</th><td>5        </td><td>Friday   </td><td>Fri.     </td></tr>\n",
       "\t<tr><th scope=row>6th</th><td>6        </td><td>Saturday </td><td>Sat.     </td></tr>\n",
       "\t<tr><th scope=row>7th</th><td>7        </td><td>Sunday   </td><td>Sun.     </td></tr>\n",
       "</tbody>\n",
       "</table>\n"
      ],
      "text/latex": [
       "\\begin{tabular}{r|lll}\n",
       "  & number & full & abbr\\\\\n",
       "\\hline\n",
       "\t1st & 1         & Monday    & Mon.     \\\\\n",
       "\t2nd & 2         & Tuesday   & Tue.     \\\\\n",
       "\t3rd & 3         & Wednesday & Wed.     \\\\\n",
       "\t4th & 4         & Thursday  & Thur.    \\\\\n",
       "\t5th & 5         & Friday    & Fri.     \\\\\n",
       "\t6th & 6         & Saturday  & Sat.     \\\\\n",
       "\t7th & 7         & Sunday    & Sun.     \\\\\n",
       "\\end{tabular}\n"
      ],
      "text/markdown": [
       "\n",
       "| <!--/--> | number | full | abbr | \n",
       "|---|---|---|---|---|---|---|\n",
       "| 1st | 1         | Monday    | Mon.      | \n",
       "| 2nd | 2         | Tuesday   | Tue.      | \n",
       "| 3rd | 3         | Wednesday | Wed.      | \n",
       "| 4th | 4         | Thursday  | Thur.     | \n",
       "| 5th | 5         | Friday    | Fri.      | \n",
       "| 6th | 6         | Saturday  | Sat.      | \n",
       "| 7th | 7         | Sunday    | Sun.      | \n",
       "\n",
       "\n"
      ],
      "text/plain": [
       "    number full      abbr \n",
       "1st 1      Monday    Mon. \n",
       "2nd 2      Tuesday   Tue. \n",
       "3rd 3      Wednesday Wed. \n",
       "4th 4      Thursday  Thur.\n",
       "5th 5      Friday    Fri. \n",
       "6th 6      Saturday  Sat. \n",
       "7th 7      Sunday    Sun. "
      ]
     },
     "metadata": {},
     "output_type": "display_data"
    }
   ],
   "source": [
    "rownames(days.name.df) <- c('1st', '2nd', '3rd', '4th', '5th', '6th', '7th')  # 添加显式的列名\n",
    "days.name.df"
   ]
  },
  {
   "cell_type": "code",
   "execution_count": 32,
   "metadata": {},
   "outputs": [
    {
     "data": {
      "text/html": [
       "<table>\n",
       "<thead><tr><th></th><th scope=col>number</th><th scope=col>abbr</th></tr></thead>\n",
       "<tbody>\n",
       "\t<tr><th scope=row>2nd</th><td>2   </td><td>Tue.</td></tr>\n",
       "\t<tr><th scope=row>6th</th><td>6   </td><td>Sat.</td></tr>\n",
       "</tbody>\n",
       "</table>\n"
      ],
      "text/latex": [
       "\\begin{tabular}{r|ll}\n",
       "  & number & abbr\\\\\n",
       "\\hline\n",
       "\t2nd & 2    & Tue.\\\\\n",
       "\t6th & 6    & Sat.\\\\\n",
       "\\end{tabular}\n"
      ],
      "text/markdown": [
       "\n",
       "| <!--/--> | number | abbr | \n",
       "|---|---|\n",
       "| 2nd | 2    | Tue. | \n",
       "| 6th | 6    | Sat. | \n",
       "\n",
       "\n"
      ],
      "text/plain": [
       "    number abbr\n",
       "2nd 2      Tue.\n",
       "6th 6      Sat."
      ]
     },
     "metadata": {},
     "output_type": "display_data"
    }
   ],
   "source": [
    "days.name.df[c('2nd', '6th'), c('number', 'abbr')]"
   ]
  },
  {
   "cell_type": "markdown",
   "metadata": {},
   "source": [
    "#### 4.2 添加行或列"
   ]
  },
  {
   "cell_type": "code",
   "execution_count": 33,
   "metadata": {},
   "outputs": [
    {
     "data": {
      "text/html": [
       "<table>\n",
       "<thead><tr><th></th><th scope=col>number</th><th scope=col>full</th><th scope=col>abbr</th><th scope=col>new.column</th></tr></thead>\n",
       "<tbody>\n",
       "\t<tr><th scope=row>1st</th><td>1        </td><td>Monday   </td><td>Mon.     </td><td>x        </td></tr>\n",
       "\t<tr><th scope=row>2nd</th><td>2        </td><td>Tuesday  </td><td>Tue.     </td><td>x        </td></tr>\n",
       "\t<tr><th scope=row>3rd</th><td>3        </td><td>Wednesday</td><td>Wed.     </td><td>x        </td></tr>\n",
       "\t<tr><th scope=row>4th</th><td>4        </td><td>Thursday </td><td>Thur.    </td><td>x        </td></tr>\n",
       "\t<tr><th scope=row>5th</th><td>5        </td><td>Friday   </td><td>Fri.     </td><td>x        </td></tr>\n",
       "\t<tr><th scope=row>6th</th><td>6        </td><td>Saturday </td><td>Sat.     </td><td>x        </td></tr>\n",
       "\t<tr><th scope=row>7th</th><td>7        </td><td>Sunday   </td><td>Sun.     </td><td>x        </td></tr>\n",
       "</tbody>\n",
       "</table>\n"
      ],
      "text/latex": [
       "\\begin{tabular}{r|llll}\n",
       "  & number & full & abbr & new.column\\\\\n",
       "\\hline\n",
       "\t1st & 1         & Monday    & Mon.      & x        \\\\\n",
       "\t2nd & 2         & Tuesday   & Tue.      & x        \\\\\n",
       "\t3rd & 3         & Wednesday & Wed.      & x        \\\\\n",
       "\t4th & 4         & Thursday  & Thur.     & x        \\\\\n",
       "\t5th & 5         & Friday    & Fri.      & x        \\\\\n",
       "\t6th & 6         & Saturday  & Sat.      & x        \\\\\n",
       "\t7th & 7         & Sunday    & Sun.      & x        \\\\\n",
       "\\end{tabular}\n"
      ],
      "text/markdown": [
       "\n",
       "| <!--/--> | number | full | abbr | new.column | \n",
       "|---|---|---|---|---|---|---|\n",
       "| 1st | 1         | Monday    | Mon.      | x         | \n",
       "| 2nd | 2         | Tuesday   | Tue.      | x         | \n",
       "| 3rd | 3         | Wednesday | Wed.      | x         | \n",
       "| 4th | 4         | Thursday  | Thur.     | x         | \n",
       "| 5th | 5         | Friday    | Fri.      | x         | \n",
       "| 6th | 6         | Saturday  | Sat.      | x         | \n",
       "| 7th | 7         | Sunday    | Sun.      | x         | \n",
       "\n",
       "\n"
      ],
      "text/plain": [
       "    number full      abbr  new.column\n",
       "1st 1      Monday    Mon.  x         \n",
       "2nd 2      Tuesday   Tue.  x         \n",
       "3rd 3      Wednesday Wed.  x         \n",
       "4th 4      Thursday  Thur. x         \n",
       "5th 5      Friday    Fri.  x         \n",
       "6th 6      Saturday  Sat.  x         \n",
       "7th 7      Sunday    Sun.  x         "
      ]
     },
     "metadata": {},
     "output_type": "display_data"
    }
   ],
   "source": [
    "days.name.df['new.column'] = 'x'\n",
    "days.name.df"
   ]
  },
  {
   "cell_type": "code",
   "execution_count": 34,
   "metadata": {},
   "outputs": [
    {
     "data": {
      "text/html": [
       "<table>\n",
       "<thead><tr><th></th><th scope=col>number</th><th scope=col>full</th><th scope=col>abbr</th><th scope=col>new.column</th></tr></thead>\n",
       "<tbody>\n",
       "\t<tr><th scope=row>1st</th><td>1        </td><td>Monday   </td><td>Mon.     </td><td>x        </td></tr>\n",
       "\t<tr><th scope=row>2nd</th><td>2        </td><td>Tuesday  </td><td>Tue.     </td><td>x        </td></tr>\n",
       "\t<tr><th scope=row>3rd</th><td>3        </td><td>Wednesday</td><td>Wed.     </td><td>x        </td></tr>\n",
       "\t<tr><th scope=row>4th</th><td>4        </td><td>Thursday </td><td>Thur.    </td><td>x        </td></tr>\n",
       "\t<tr><th scope=row>5th</th><td>5        </td><td>Friday   </td><td>Fri.     </td><td>x        </td></tr>\n",
       "\t<tr><th scope=row>6th</th><td>6        </td><td>Saturday </td><td>Sat.     </td><td>x        </td></tr>\n",
       "\t<tr><th scope=row>7th</th><td>7        </td><td>Sunday   </td><td>Sun.     </td><td>x        </td></tr>\n",
       "\t<tr><th scope=row>8th</th><td>8        </td><td>Rainday  </td><td>Rain.    </td><td>x        </td></tr>\n",
       "</tbody>\n",
       "</table>\n"
      ],
      "text/latex": [
       "\\begin{tabular}{r|llll}\n",
       "  & number & full & abbr & new.column\\\\\n",
       "\\hline\n",
       "\t1st & 1         & Monday    & Mon.      & x        \\\\\n",
       "\t2nd & 2         & Tuesday   & Tue.      & x        \\\\\n",
       "\t3rd & 3         & Wednesday & Wed.      & x        \\\\\n",
       "\t4th & 4         & Thursday  & Thur.     & x        \\\\\n",
       "\t5th & 5         & Friday    & Fri.      & x        \\\\\n",
       "\t6th & 6         & Saturday  & Sat.      & x        \\\\\n",
       "\t7th & 7         & Sunday    & Sun.      & x        \\\\\n",
       "\t8th & 8         & Rainday   & Rain.     & x        \\\\\n",
       "\\end{tabular}\n"
      ],
      "text/markdown": [
       "\n",
       "| <!--/--> | number | full | abbr | new.column | \n",
       "|---|---|---|---|---|---|---|---|\n",
       "| 1st | 1         | Monday    | Mon.      | x         | \n",
       "| 2nd | 2         | Tuesday   | Tue.      | x         | \n",
       "| 3rd | 3         | Wednesday | Wed.      | x         | \n",
       "| 4th | 4         | Thursday  | Thur.     | x         | \n",
       "| 5th | 5         | Friday    | Fri.      | x         | \n",
       "| 6th | 6         | Saturday  | Sat.      | x         | \n",
       "| 7th | 7         | Sunday    | Sun.      | x         | \n",
       "| 8th | 8         | Rainday   | Rain.     | x         | \n",
       "\n",
       "\n"
      ],
      "text/plain": [
       "    number full      abbr  new.column\n",
       "1st 1      Monday    Mon.  x         \n",
       "2nd 2      Tuesday   Tue.  x         \n",
       "3rd 3      Wednesday Wed.  x         \n",
       "4th 4      Thursday  Thur. x         \n",
       "5th 5      Friday    Fri.  x         \n",
       "6th 6      Saturday  Sat.  x         \n",
       "7th 7      Sunday    Sun.  x         \n",
       "8th 8      Rainday   Rain. x         "
      ]
     },
     "metadata": {},
     "output_type": "display_data"
    }
   ],
   "source": [
    "days.name.df['8th',] <- c(8, 'Rainday', 'Rain.', 'x')\n",
    "days.name.df"
   ]
  },
  {
   "cell_type": "markdown",
   "metadata": {},
   "source": [
    "#### 4.3 修改值"
   ]
  },
  {
   "cell_type": "code",
   "execution_count": 35,
   "metadata": {},
   "outputs": [
    {
     "data": {
      "text/html": [
       "<table>\n",
       "<thead><tr><th></th><th scope=col>number</th><th scope=col>full</th><th scope=col>abbr</th><th scope=col>new.column</th></tr></thead>\n",
       "<tbody>\n",
       "\t<tr><th scope=row>1st</th><td>1        </td><td>Monday   </td><td>Mon.     </td><td>y        </td></tr>\n",
       "\t<tr><th scope=row>2nd</th><td>2        </td><td>Tuesday  </td><td>Tue.     </td><td>y        </td></tr>\n",
       "\t<tr><th scope=row>3rd</th><td>3        </td><td>Wednesday</td><td>Wed.     </td><td>y        </td></tr>\n",
       "\t<tr><th scope=row>4th</th><td>4        </td><td>Thursday </td><td>Thur.    </td><td>y        </td></tr>\n",
       "\t<tr><th scope=row>5th</th><td>5        </td><td>Friday   </td><td>Fri.     </td><td>y        </td></tr>\n",
       "\t<tr><th scope=row>6th</th><td>6        </td><td>Saturday </td><td>Sat.     </td><td>y        </td></tr>\n",
       "\t<tr><th scope=row>7th</th><td>7        </td><td>Sunday   </td><td>Sun.     </td><td>y        </td></tr>\n",
       "\t<tr><th scope=row>8th</th><td>8        </td><td>Rainday  </td><td>Rain.    </td><td>y        </td></tr>\n",
       "</tbody>\n",
       "</table>\n"
      ],
      "text/latex": [
       "\\begin{tabular}{r|llll}\n",
       "  & number & full & abbr & new.column\\\\\n",
       "\\hline\n",
       "\t1st & 1         & Monday    & Mon.      & y        \\\\\n",
       "\t2nd & 2         & Tuesday   & Tue.      & y        \\\\\n",
       "\t3rd & 3         & Wednesday & Wed.      & y        \\\\\n",
       "\t4th & 4         & Thursday  & Thur.     & y        \\\\\n",
       "\t5th & 5         & Friday    & Fri.      & y        \\\\\n",
       "\t6th & 6         & Saturday  & Sat.      & y        \\\\\n",
       "\t7th & 7         & Sunday    & Sun.      & y        \\\\\n",
       "\t8th & 8         & Rainday   & Rain.     & y        \\\\\n",
       "\\end{tabular}\n"
      ],
      "text/markdown": [
       "\n",
       "| <!--/--> | number | full | abbr | new.column | \n",
       "|---|---|---|---|---|---|---|---|\n",
       "| 1st | 1         | Monday    | Mon.      | y         | \n",
       "| 2nd | 2         | Tuesday   | Tue.      | y         | \n",
       "| 3rd | 3         | Wednesday | Wed.      | y         | \n",
       "| 4th | 4         | Thursday  | Thur.     | y         | \n",
       "| 5th | 5         | Friday    | Fri.      | y         | \n",
       "| 6th | 6         | Saturday  | Sat.      | y         | \n",
       "| 7th | 7         | Sunday    | Sun.      | y         | \n",
       "| 8th | 8         | Rainday   | Rain.     | y         | \n",
       "\n",
       "\n"
      ],
      "text/plain": [
       "    number full      abbr  new.column\n",
       "1st 1      Monday    Mon.  y         \n",
       "2nd 2      Tuesday   Tue.  y         \n",
       "3rd 3      Wednesday Wed.  y         \n",
       "4th 4      Thursday  Thur. y         \n",
       "5th 5      Friday    Fri.  y         \n",
       "6th 6      Saturday  Sat.  y         \n",
       "7th 7      Sunday    Sun.  y         \n",
       "8th 8      Rainday   Rain. y         "
      ]
     },
     "metadata": {},
     "output_type": "display_data"
    }
   ],
   "source": [
    "days.name.df['new.column'] <- 'y'  # 直接修改整列的值\n",
    "days.name.df"
   ]
  },
  {
   "cell_type": "code",
   "execution_count": 36,
   "metadata": {},
   "outputs": [
    {
     "name": "stdout",
     "output_type": "stream",
     "text": [
      "FALSE FALSE FALSE FALSE TRUE TRUE TRUE TRUE"
     ]
    }
   ],
   "source": [
    "cat(1:8>4)"
   ]
  },
  {
   "cell_type": "code",
   "execution_count": 37,
   "metadata": {},
   "outputs": [
    {
     "data": {
      "text/html": [
       "<table>\n",
       "<thead><tr><th></th><th scope=col>number</th><th scope=col>full</th><th scope=col>abbr</th><th scope=col>new.column</th></tr></thead>\n",
       "<tbody>\n",
       "\t<tr><th scope=row>1st</th><td>1        </td><td>Monday   </td><td>Mon.     </td><td>y        </td></tr>\n",
       "\t<tr><th scope=row>2nd</th><td>2        </td><td>Tuesday  </td><td>Tue.     </td><td>y        </td></tr>\n",
       "\t<tr><th scope=row>3rd</th><td>3        </td><td>Wednesday</td><td>Wed.     </td><td>y        </td></tr>\n",
       "\t<tr><th scope=row>4th</th><td>4        </td><td>Thursday </td><td>Thur.    </td><td>y        </td></tr>\n",
       "\t<tr><th scope=row>5th</th><td>5        </td><td>Friday   </td><td>Fri.     </td><td>z        </td></tr>\n",
       "\t<tr><th scope=row>6th</th><td>6        </td><td>Saturday </td><td>Sat.     </td><td>z        </td></tr>\n",
       "\t<tr><th scope=row>7th</th><td>7        </td><td>Sunday   </td><td>Sun.     </td><td>z        </td></tr>\n",
       "\t<tr><th scope=row>8th</th><td>8        </td><td>Rainday  </td><td>Rain.    </td><td>z        </td></tr>\n",
       "</tbody>\n",
       "</table>\n"
      ],
      "text/latex": [
       "\\begin{tabular}{r|llll}\n",
       "  & number & full & abbr & new.column\\\\\n",
       "\\hline\n",
       "\t1st & 1         & Monday    & Mon.      & y        \\\\\n",
       "\t2nd & 2         & Tuesday   & Tue.      & y        \\\\\n",
       "\t3rd & 3         & Wednesday & Wed.      & y        \\\\\n",
       "\t4th & 4         & Thursday  & Thur.     & y        \\\\\n",
       "\t5th & 5         & Friday    & Fri.      & z        \\\\\n",
       "\t6th & 6         & Saturday  & Sat.      & z        \\\\\n",
       "\t7th & 7         & Sunday    & Sun.      & z        \\\\\n",
       "\t8th & 8         & Rainday   & Rain.     & z        \\\\\n",
       "\\end{tabular}\n"
      ],
      "text/markdown": [
       "\n",
       "| <!--/--> | number | full | abbr | new.column | \n",
       "|---|---|---|---|---|---|---|---|\n",
       "| 1st | 1         | Monday    | Mon.      | y         | \n",
       "| 2nd | 2         | Tuesday   | Tue.      | y         | \n",
       "| 3rd | 3         | Wednesday | Wed.      | y         | \n",
       "| 4th | 4         | Thursday  | Thur.     | y         | \n",
       "| 5th | 5         | Friday    | Fri.      | z         | \n",
       "| 6th | 6         | Saturday  | Sat.      | z         | \n",
       "| 7th | 7         | Sunday    | Sun.      | z         | \n",
       "| 8th | 8         | Rainday   | Rain.     | z         | \n",
       "\n",
       "\n"
      ],
      "text/plain": [
       "    number full      abbr  new.column\n",
       "1st 1      Monday    Mon.  y         \n",
       "2nd 2      Tuesday   Tue.  y         \n",
       "3rd 3      Wednesday Wed.  y         \n",
       "4th 4      Thursday  Thur. y         \n",
       "5th 5      Friday    Fri.  z         \n",
       "6th 6      Saturday  Sat.  z         \n",
       "7th 7      Sunday    Sun.  z         \n",
       "8th 8      Rainday   Rain. z         "
      ]
     },
     "metadata": {},
     "output_type": "display_data"
    }
   ],
   "source": [
    "days.name.df[1:8>4, 'new.column'] = 'z'  # 使用逻辑向量，指定需要修改的行；同时指定列名\n",
    "days.name.df"
   ]
  },
  {
   "cell_type": "markdown",
   "metadata": {},
   "source": [
    "#### 4.4 删除行或列\n",
    "删除列的方法同列表中的方法，将待删除的列赋值为`NULL`；但是该方法不适用与删除行"
   ]
  },
  {
   "cell_type": "code",
   "execution_count": 38,
   "metadata": {},
   "outputs": [
    {
     "data": {
      "text/html": [
       "<ol class=list-inline>\n",
       "\t<li>8</li>\n",
       "\t<li>4</li>\n",
       "</ol>\n"
      ],
      "text/latex": [
       "\\begin{enumerate*}\n",
       "\\item 8\n",
       "\\item 4\n",
       "\\end{enumerate*}\n"
      ],
      "text/markdown": [
       "1. 8\n",
       "2. 4\n",
       "\n",
       "\n"
      ],
      "text/plain": [
       "[1] 8 4"
      ]
     },
     "metadata": {},
     "output_type": "display_data"
    }
   ],
   "source": [
    "dim(days.name.df)"
   ]
  },
  {
   "cell_type": "code",
   "execution_count": 39,
   "metadata": {},
   "outputs": [
    {
     "data": {
      "text/html": [
       "<table>\n",
       "<thead><tr><th></th><th scope=col>number</th><th scope=col>full</th><th scope=col>abbr</th></tr></thead>\n",
       "<tbody>\n",
       "\t<tr><th scope=row>1st</th><td>1        </td><td>Monday   </td><td>Mon.     </td></tr>\n",
       "\t<tr><th scope=row>2nd</th><td>2        </td><td>Tuesday  </td><td>Tue.     </td></tr>\n",
       "\t<tr><th scope=row>3rd</th><td>3        </td><td>Wednesday</td><td>Wed.     </td></tr>\n",
       "\t<tr><th scope=row>4th</th><td>4        </td><td>Thursday </td><td>Thur.    </td></tr>\n",
       "\t<tr><th scope=row>5th</th><td>5        </td><td>Friday   </td><td>Fri.     </td></tr>\n",
       "\t<tr><th scope=row>6th</th><td>6        </td><td>Saturday </td><td>Sat.     </td></tr>\n",
       "\t<tr><th scope=row>7th</th><td>7        </td><td>Sunday   </td><td>Sun.     </td></tr>\n",
       "\t<tr><th scope=row>8th</th><td>8        </td><td>Rainday  </td><td>Rain.    </td></tr>\n",
       "</tbody>\n",
       "</table>\n"
      ],
      "text/latex": [
       "\\begin{tabular}{r|lll}\n",
       "  & number & full & abbr\\\\\n",
       "\\hline\n",
       "\t1st & 1         & Monday    & Mon.     \\\\\n",
       "\t2nd & 2         & Tuesday   & Tue.     \\\\\n",
       "\t3rd & 3         & Wednesday & Wed.     \\\\\n",
       "\t4th & 4         & Thursday  & Thur.    \\\\\n",
       "\t5th & 5         & Friday    & Fri.     \\\\\n",
       "\t6th & 6         & Saturday  & Sat.     \\\\\n",
       "\t7th & 7         & Sunday    & Sun.     \\\\\n",
       "\t8th & 8         & Rainday   & Rain.    \\\\\n",
       "\\end{tabular}\n"
      ],
      "text/markdown": [
       "\n",
       "| <!--/--> | number | full | abbr | \n",
       "|---|---|---|---|---|---|---|---|\n",
       "| 1st | 1         | Monday    | Mon.      | \n",
       "| 2nd | 2         | Tuesday   | Tue.      | \n",
       "| 3rd | 3         | Wednesday | Wed.      | \n",
       "| 4th | 4         | Thursday  | Thur.     | \n",
       "| 5th | 5         | Friday    | Fri.      | \n",
       "| 6th | 6         | Saturday  | Sat.      | \n",
       "| 7th | 7         | Sunday    | Sun.      | \n",
       "| 8th | 8         | Rainday   | Rain.     | \n",
       "\n",
       "\n"
      ],
      "text/plain": [
       "    number full      abbr \n",
       "1st 1      Monday    Mon. \n",
       "2nd 2      Tuesday   Tue. \n",
       "3rd 3      Wednesday Wed. \n",
       "4th 4      Thursday  Thur.\n",
       "5th 5      Friday    Fri. \n",
       "6th 6      Saturday  Sat. \n",
       "7th 7      Sunday    Sun. \n",
       "8th 8      Rainday   Rain."
      ]
     },
     "metadata": {},
     "output_type": "display_data"
    }
   ],
   "source": [
    "days.name.df$new.column <- NULL\n",
    "days.name.df"
   ]
  },
  {
   "cell_type": "markdown",
   "metadata": {},
   "source": [
    "**负整数**的行索引，表示不包含该行"
   ]
  },
  {
   "cell_type": "code",
   "execution_count": 40,
   "metadata": {},
   "outputs": [
    {
     "data": {
      "text/html": [
       "<table>\n",
       "<thead><tr><th></th><th scope=col>number</th><th scope=col>full</th><th scope=col>abbr</th></tr></thead>\n",
       "<tbody>\n",
       "\t<tr><th scope=row>1st</th><td>1        </td><td>Monday   </td><td>Mon.     </td></tr>\n",
       "\t<tr><th scope=row>2nd</th><td>2        </td><td>Tuesday  </td><td>Tue.     </td></tr>\n",
       "\t<tr><th scope=row>3rd</th><td>3        </td><td>Wednesday</td><td>Wed.     </td></tr>\n",
       "\t<tr><th scope=row>4th</th><td>4        </td><td>Thursday </td><td>Thur.    </td></tr>\n",
       "\t<tr><th scope=row>5th</th><td>5        </td><td>Friday   </td><td>Fri.     </td></tr>\n",
       "\t<tr><th scope=row>6th</th><td>6        </td><td>Saturday </td><td>Sat.     </td></tr>\n",
       "\t<tr><th scope=row>7th</th><td>7        </td><td>Sunday   </td><td>Sun.     </td></tr>\n",
       "</tbody>\n",
       "</table>\n"
      ],
      "text/latex": [
       "\\begin{tabular}{r|lll}\n",
       "  & number & full & abbr\\\\\n",
       "\\hline\n",
       "\t1st & 1         & Monday    & Mon.     \\\\\n",
       "\t2nd & 2         & Tuesday   & Tue.     \\\\\n",
       "\t3rd & 3         & Wednesday & Wed.     \\\\\n",
       "\t4th & 4         & Thursday  & Thur.    \\\\\n",
       "\t5th & 5         & Friday    & Fri.     \\\\\n",
       "\t6th & 6         & Saturday  & Sat.     \\\\\n",
       "\t7th & 7         & Sunday    & Sun.     \\\\\n",
       "\\end{tabular}\n"
      ],
      "text/markdown": [
       "\n",
       "| <!--/--> | number | full | abbr | \n",
       "|---|---|---|---|---|---|---|\n",
       "| 1st | 1         | Monday    | Mon.      | \n",
       "| 2nd | 2         | Tuesday   | Tue.      | \n",
       "| 3rd | 3         | Wednesday | Wed.      | \n",
       "| 4th | 4         | Thursday  | Thur.     | \n",
       "| 5th | 5         | Friday    | Fri.      | \n",
       "| 6th | 6         | Saturday  | Sat.      | \n",
       "| 7th | 7         | Sunday    | Sun.      | \n",
       "\n",
       "\n"
      ],
      "text/plain": [
       "    number full      abbr \n",
       "1st 1      Monday    Mon. \n",
       "2nd 2      Tuesday   Tue. \n",
       "3rd 3      Wednesday Wed. \n",
       "4th 4      Thursday  Thur.\n",
       "5th 5      Friday    Fri. \n",
       "6th 6      Saturday  Sat. \n",
       "7th 7      Sunday    Sun. "
      ]
     },
     "metadata": {},
     "output_type": "display_data"
    }
   ],
   "source": [
    "days.name.df[-c(8),]  # 使用`-`符号，此时只能用数字行号索引，不能用显式的行名，此时会返回一个新的数据框不包含第8个元素"
   ]
  },
  {
   "cell_type": "markdown",
   "metadata": {},
   "source": [
    "直接使用行名操作排除某行\n",
    "- 参考：https://stackoverflow.com/a/7576278/2803344"
   ]
  },
  {
   "cell_type": "code",
   "execution_count": 41,
   "metadata": {},
   "outputs": [
    {
     "data": {
      "text/html": [
       "<table>\n",
       "<thead><tr><th></th><th scope=col>number</th><th scope=col>full</th><th scope=col>abbr</th></tr></thead>\n",
       "<tbody>\n",
       "\t<tr><th scope=row>1st</th><td>1        </td><td>Monday   </td><td>Mon.     </td></tr>\n",
       "\t<tr><th scope=row>2nd</th><td>2        </td><td>Tuesday  </td><td>Tue.     </td></tr>\n",
       "\t<tr><th scope=row>3rd</th><td>3        </td><td>Wednesday</td><td>Wed.     </td></tr>\n",
       "\t<tr><th scope=row>4th</th><td>4        </td><td>Thursday </td><td>Thur.    </td></tr>\n",
       "\t<tr><th scope=row>5th</th><td>5        </td><td>Friday   </td><td>Fri.     </td></tr>\n",
       "\t<tr><th scope=row>6th</th><td>6        </td><td>Saturday </td><td>Sat.     </td></tr>\n",
       "\t<tr><th scope=row>7th</th><td>7        </td><td>Sunday   </td><td>Sun.     </td></tr>\n",
       "\t<tr><th scope=row>8th</th><td>8        </td><td>Rainday  </td><td>Rain.    </td></tr>\n",
       "</tbody>\n",
       "</table>\n"
      ],
      "text/latex": [
       "\\begin{tabular}{r|lll}\n",
       "  & number & full & abbr\\\\\n",
       "\\hline\n",
       "\t1st & 1         & Monday    & Mon.     \\\\\n",
       "\t2nd & 2         & Tuesday   & Tue.     \\\\\n",
       "\t3rd & 3         & Wednesday & Wed.     \\\\\n",
       "\t4th & 4         & Thursday  & Thur.    \\\\\n",
       "\t5th & 5         & Friday    & Fri.     \\\\\n",
       "\t6th & 6         & Saturday  & Sat.     \\\\\n",
       "\t7th & 7         & Sunday    & Sun.     \\\\\n",
       "\t8th & 8         & Rainday   & Rain.    \\\\\n",
       "\\end{tabular}\n"
      ],
      "text/markdown": [
       "\n",
       "| <!--/--> | number | full | abbr | \n",
       "|---|---|---|---|---|---|---|---|\n",
       "| 1st | 1         | Monday    | Mon.      | \n",
       "| 2nd | 2         | Tuesday   | Tue.      | \n",
       "| 3rd | 3         | Wednesday | Wed.      | \n",
       "| 4th | 4         | Thursday  | Thur.     | \n",
       "| 5th | 5         | Friday    | Fri.      | \n",
       "| 6th | 6         | Saturday  | Sat.      | \n",
       "| 7th | 7         | Sunday    | Sun.      | \n",
       "| 8th | 8         | Rainday   | Rain.     | \n",
       "\n",
       "\n"
      ],
      "text/plain": [
       "    number full      abbr \n",
       "1st 1      Monday    Mon. \n",
       "2nd 2      Tuesday   Tue. \n",
       "3rd 3      Wednesday Wed. \n",
       "4th 4      Thursday  Thur.\n",
       "5th 5      Friday    Fri. \n",
       "6th 6      Saturday  Sat. \n",
       "7th 7      Sunday    Sun. \n",
       "8th 8      Rainday   Rain."
      ]
     },
     "metadata": {},
     "output_type": "display_data"
    }
   ],
   "source": [
    "days.name.df"
   ]
  },
  {
   "cell_type": "code",
   "execution_count": 42,
   "metadata": {},
   "outputs": [
    {
     "name": "stdout",
     "output_type": "stream",
     "text": [
      "TRUE TRUE TRUE TRUE TRUE TRUE TRUE FALSE"
     ]
    }
   ],
   "source": [
    "cat(!(rownames(days.name.df) %in% c('8th')))  # `!`非逻辑运算符"
   ]
  },
  {
   "cell_type": "code",
   "execution_count": 43,
   "metadata": {},
   "outputs": [
    {
     "data": {
      "text/html": [
       "<table>\n",
       "<thead><tr><th></th><th scope=col>number</th><th scope=col>full</th><th scope=col>abbr</th></tr></thead>\n",
       "<tbody>\n",
       "\t<tr><th scope=row>1st</th><td>1        </td><td>Monday   </td><td>Mon.     </td></tr>\n",
       "\t<tr><th scope=row>2nd</th><td>2        </td><td>Tuesday  </td><td>Tue.     </td></tr>\n",
       "\t<tr><th scope=row>3rd</th><td>3        </td><td>Wednesday</td><td>Wed.     </td></tr>\n",
       "\t<tr><th scope=row>4th</th><td>4        </td><td>Thursday </td><td>Thur.    </td></tr>\n",
       "\t<tr><th scope=row>5th</th><td>5        </td><td>Friday   </td><td>Fri.     </td></tr>\n",
       "\t<tr><th scope=row>6th</th><td>6        </td><td>Saturday </td><td>Sat.     </td></tr>\n",
       "\t<tr><th scope=row>7th</th><td>7        </td><td>Sunday   </td><td>Sun.     </td></tr>\n",
       "</tbody>\n",
       "</table>\n"
      ],
      "text/latex": [
       "\\begin{tabular}{r|lll}\n",
       "  & number & full & abbr\\\\\n",
       "\\hline\n",
       "\t1st & 1         & Monday    & Mon.     \\\\\n",
       "\t2nd & 2         & Tuesday   & Tue.     \\\\\n",
       "\t3rd & 3         & Wednesday & Wed.     \\\\\n",
       "\t4th & 4         & Thursday  & Thur.    \\\\\n",
       "\t5th & 5         & Friday    & Fri.     \\\\\n",
       "\t6th & 6         & Saturday  & Sat.     \\\\\n",
       "\t7th & 7         & Sunday    & Sun.     \\\\\n",
       "\\end{tabular}\n"
      ],
      "text/markdown": [
       "\n",
       "| <!--/--> | number | full | abbr | \n",
       "|---|---|---|---|---|---|---|\n",
       "| 1st | 1         | Monday    | Mon.      | \n",
       "| 2nd | 2         | Tuesday   | Tue.      | \n",
       "| 3rd | 3         | Wednesday | Wed.      | \n",
       "| 4th | 4         | Thursday  | Thur.     | \n",
       "| 5th | 5         | Friday    | Fri.      | \n",
       "| 6th | 6         | Saturday  | Sat.      | \n",
       "| 7th | 7         | Sunday    | Sun.      | \n",
       "\n",
       "\n"
      ],
      "text/plain": [
       "    number full      abbr \n",
       "1st 1      Monday    Mon. \n",
       "2nd 2      Tuesday   Tue. \n",
       "3rd 3      Wednesday Wed. \n",
       "4th 4      Thursday  Thur.\n",
       "5th 5      Friday    Fri. \n",
       "6th 6      Saturday  Sat. \n",
       "7th 7      Sunday    Sun. "
      ]
     },
     "metadata": {},
     "output_type": "display_data"
    }
   ],
   "source": [
    "days.name.df[!(rownames(days.name.df) %in% c('8th')),]"
   ]
  },
  {
   "cell_type": "code",
   "execution_count": 44,
   "metadata": {},
   "outputs": [
    {
     "name": "stdout",
     "output_type": "stream",
     "text": [
      "-8"
     ]
    }
   ],
   "source": [
    "cat(-which(rownames(days.name.df) %in% c('8th')))  # 使用`which()`函数定位行名的位置"
   ]
  },
  {
   "cell_type": "code",
   "execution_count": 45,
   "metadata": {},
   "outputs": [
    {
     "data": {
      "text/html": [
       "<table>\n",
       "<thead><tr><th></th><th scope=col>number</th><th scope=col>full</th><th scope=col>abbr</th></tr></thead>\n",
       "<tbody>\n",
       "\t<tr><th scope=row>1st</th><td>1        </td><td>Monday   </td><td>Mon.     </td></tr>\n",
       "\t<tr><th scope=row>2nd</th><td>2        </td><td>Tuesday  </td><td>Tue.     </td></tr>\n",
       "\t<tr><th scope=row>3rd</th><td>3        </td><td>Wednesday</td><td>Wed.     </td></tr>\n",
       "\t<tr><th scope=row>4th</th><td>4        </td><td>Thursday </td><td>Thur.    </td></tr>\n",
       "\t<tr><th scope=row>5th</th><td>5        </td><td>Friday   </td><td>Fri.     </td></tr>\n",
       "\t<tr><th scope=row>6th</th><td>6        </td><td>Saturday </td><td>Sat.     </td></tr>\n",
       "\t<tr><th scope=row>7th</th><td>7        </td><td>Sunday   </td><td>Sun.     </td></tr>\n",
       "</tbody>\n",
       "</table>\n"
      ],
      "text/latex": [
       "\\begin{tabular}{r|lll}\n",
       "  & number & full & abbr\\\\\n",
       "\\hline\n",
       "\t1st & 1         & Monday    & Mon.     \\\\\n",
       "\t2nd & 2         & Tuesday   & Tue.     \\\\\n",
       "\t3rd & 3         & Wednesday & Wed.     \\\\\n",
       "\t4th & 4         & Thursday  & Thur.    \\\\\n",
       "\t5th & 5         & Friday    & Fri.     \\\\\n",
       "\t6th & 6         & Saturday  & Sat.     \\\\\n",
       "\t7th & 7         & Sunday    & Sun.     \\\\\n",
       "\\end{tabular}\n"
      ],
      "text/markdown": [
       "\n",
       "| <!--/--> | number | full | abbr | \n",
       "|---|---|---|---|---|---|---|\n",
       "| 1st | 1         | Monday    | Mon.      | \n",
       "| 2nd | 2         | Tuesday   | Tue.      | \n",
       "| 3rd | 3         | Wednesday | Wed.      | \n",
       "| 4th | 4         | Thursday  | Thur.     | \n",
       "| 5th | 5         | Friday    | Fri.      | \n",
       "| 6th | 6         | Saturday  | Sat.      | \n",
       "| 7th | 7         | Sunday    | Sun.      | \n",
       "\n",
       "\n"
      ],
      "text/plain": [
       "    number full      abbr \n",
       "1st 1      Monday    Mon. \n",
       "2nd 2      Tuesday   Tue. \n",
       "3rd 3      Wednesday Wed. \n",
       "4th 4      Thursday  Thur.\n",
       "5th 5      Friday    Fri. \n",
       "6th 6      Saturday  Sat. \n",
       "7th 7      Sunday    Sun. "
      ]
     },
     "metadata": {},
     "output_type": "display_data"
    }
   ],
   "source": [
    "days.name.df[-which(rownames(days.name.df) %in% c('8th')),]"
   ]
  },
  {
   "cell_type": "markdown",
   "metadata": {},
   "source": [
    "#### 4.5 按行或按列组合两个数据框\n",
    "方法同组合两个矩阵，使用`cbind()`和`rbind()`函数"
   ]
  },
  {
   "cell_type": "markdown",
   "metadata": {},
   "source": [
    "#### 4.6 按列关联两个数据框\n",
    "使用`merge()`函数"
   ]
  },
  {
   "cell_type": "code",
   "execution_count": 46,
   "metadata": {},
   "outputs": [
    {
     "data": {
      "text/html": [
       "<table>\n",
       "<thead><tr><th scope=col>surname</th><th scope=col>nationality</th><th scope=col>deceased</th></tr></thead>\n",
       "<tbody>\n",
       "\t<tr><td>Tukey    </td><td>US       </td><td>yes      </td></tr>\n",
       "\t<tr><td>Venables </td><td>Australia</td><td>no       </td></tr>\n",
       "\t<tr><td>Tierney  </td><td>US       </td><td>no       </td></tr>\n",
       "\t<tr><td>Ripley   </td><td>UK       </td><td>no       </td></tr>\n",
       "\t<tr><td>McNeil   </td><td>Australia</td><td>no       </td></tr>\n",
       "</tbody>\n",
       "</table>\n"
      ],
      "text/latex": [
       "\\begin{tabular}{r|lll}\n",
       " surname & nationality & deceased\\\\\n",
       "\\hline\n",
       "\t Tukey     & US        & yes      \\\\\n",
       "\t Venables  & Australia & no       \\\\\n",
       "\t Tierney   & US        & no       \\\\\n",
       "\t Ripley    & UK        & no       \\\\\n",
       "\t McNeil    & Australia & no       \\\\\n",
       "\\end{tabular}\n"
      ],
      "text/markdown": [
       "\n",
       "surname | nationality | deceased | \n",
       "|---|---|---|---|---|\n",
       "| Tukey     | US        | yes       | \n",
       "| Venables  | Australia | no        | \n",
       "| Tierney   | US        | no        | \n",
       "| Ripley    | UK        | no        | \n",
       "| McNeil    | Australia | no        | \n",
       "\n",
       "\n"
      ],
      "text/plain": [
       "  surname  nationality deceased\n",
       "1 Tukey    US          yes     \n",
       "2 Venables Australia   no      \n",
       "3 Tierney  US          no      \n",
       "4 Ripley   UK          no      \n",
       "5 McNeil   Australia   no      "
      ]
     },
     "metadata": {},
     "output_type": "display_data"
    }
   ],
   "source": [
    "authors <- data.frame(\n",
    "      surname = I(c(\"Tukey\", \"Venables\", \"Tierney\", \"Ripley\", \"McNeil\")),\n",
    "      nationality = c(\"US\", \"Australia\", \"US\", \"UK\", \"Australia\"),\n",
    "      deceased = c(\"yes\", rep(\"no\", 4)))\n",
    "authors"
   ]
  },
  {
   "cell_type": "code",
   "execution_count": 47,
   "metadata": {},
   "outputs": [
    {
     "data": {
      "text/html": [
       "<table>\n",
       "<thead><tr><th scope=col>name</th><th scope=col>title</th><th scope=col>other.author</th></tr></thead>\n",
       "<tbody>\n",
       "\t<tr><td>Tukey                        </td><td>Exploratory Data Analysis    </td><td>NA                           </td></tr>\n",
       "\t<tr><td>Venables                     </td><td>Modern Applied Statistics ...</td><td>Ripley                       </td></tr>\n",
       "\t<tr><td>Tierney                      </td><td>LISP-STAT                    </td><td>NA                           </td></tr>\n",
       "\t<tr><td>Ripley                       </td><td>Spatial Statistics           </td><td>NA                           </td></tr>\n",
       "\t<tr><td>Ripley                       </td><td>Stochastic Simulation        </td><td>NA                           </td></tr>\n",
       "\t<tr><td>McNeil                       </td><td>Interactive Data Analysis    </td><td>NA                           </td></tr>\n",
       "\t<tr><td><span style=white-space:pre-wrap>R Core  </span>                     </td><td><span style=white-space:pre-wrap>An Introduction to R         </span></td><td>Venables &amp; Smith                                                 </td></tr>\n",
       "</tbody>\n",
       "</table>\n"
      ],
      "text/latex": [
       "\\begin{tabular}{r|lll}\n",
       " name & title & other.author\\\\\n",
       "\\hline\n",
       "\t Tukey                         & Exploratory Data Analysis     & NA                           \\\\\n",
       "\t Venables                      & Modern Applied Statistics ... & Ripley                       \\\\\n",
       "\t Tierney                       & LISP-STAT                     & NA                           \\\\\n",
       "\t Ripley                        & Spatial Statistics            & NA                           \\\\\n",
       "\t Ripley                        & Stochastic Simulation         & NA                           \\\\\n",
       "\t McNeil                        & Interactive Data Analysis     & NA                           \\\\\n",
       "\t R Core                        & An Introduction to R          & Venables \\& Smith           \\\\\n",
       "\\end{tabular}\n"
      ],
      "text/markdown": [
       "\n",
       "name | title | other.author | \n",
       "|---|---|---|---|---|---|---|\n",
       "| Tukey                         | Exploratory Data Analysis     | NA                            | \n",
       "| Venables                      | Modern Applied Statistics ... | Ripley                        | \n",
       "| Tierney                       | LISP-STAT                     | NA                            | \n",
       "| Ripley                        | Spatial Statistics            | NA                            | \n",
       "| Ripley                        | Stochastic Simulation         | NA                            | \n",
       "| McNeil                        | Interactive Data Analysis     | NA                            | \n",
       "| R Core                        | An Introduction to R          | Venables & Smith              | \n",
       "\n",
       "\n"
      ],
      "text/plain": [
       "  name     title                         other.author    \n",
       "1 Tukey    Exploratory Data Analysis     NA              \n",
       "2 Venables Modern Applied Statistics ... Ripley          \n",
       "3 Tierney  LISP-STAT                     NA              \n",
       "4 Ripley   Spatial Statistics            NA              \n",
       "5 Ripley   Stochastic Simulation         NA              \n",
       "6 McNeil   Interactive Data Analysis     NA              \n",
       "7 R Core   An Introduction to R          Venables & Smith"
      ]
     },
     "metadata": {},
     "output_type": "display_data"
    }
   ],
   "source": [
    "books <- data.frame(\n",
    "      name = I(c(\"Tukey\", \"Venables\", \"Tierney\",\n",
    "               \"Ripley\", \"Ripley\", \"McNeil\", \"R Core\")),\n",
    "      title = c(\"Exploratory Data Analysis\",\n",
    "                \"Modern Applied Statistics ...\",\n",
    "                \"LISP-STAT\",\n",
    "                \"Spatial Statistics\", \"Stochastic Simulation\",\n",
    "                \"Interactive Data Analysis\",\n",
    "                \"An Introduction to R\"),\n",
    "      other.author = c(NA, \"Ripley\", NA, NA, NA, NA,\n",
    "                       \"Venables & Smith\"))\n",
    "books"
   ]
  },
  {
   "cell_type": "markdown",
   "metadata": {},
   "source": [
    "现在有两个表，一张表记录\"作者\"相关的信息，另一张表记录\"书\"的信息，两个表中都有\"姓名\"这一列信息。现在可以根据该列信息将两个表关联起来，从而得到更多的信息，例如\"每本书的作者来自哪个国家\"这样的信息。"
   ]
  },
  {
   "cell_type": "code",
   "execution_count": 48,
   "metadata": {},
   "outputs": [
    {
     "data": {
      "text/html": [
       "<table>\n",
       "<thead><tr><th scope=col>name</th><th scope=col>title</th><th scope=col>other.author</th><th scope=col>nationality</th><th scope=col>deceased</th></tr></thead>\n",
       "<tbody>\n",
       "\t<tr><td>Tukey                        </td><td>Exploratory Data Analysis    </td><td>NA                           </td><td>US                           </td><td>yes                          </td></tr>\n",
       "\t<tr><td>Venables                     </td><td>Modern Applied Statistics ...</td><td>Ripley                       </td><td>Australia                    </td><td>no                           </td></tr>\n",
       "\t<tr><td>Tierney                      </td><td>LISP-STAT                    </td><td>NA                           </td><td>US                           </td><td>no                           </td></tr>\n",
       "\t<tr><td>Ripley                       </td><td>Spatial Statistics           </td><td>NA                           </td><td>UK                           </td><td>no                           </td></tr>\n",
       "\t<tr><td>Ripley                       </td><td>Stochastic Simulation        </td><td>NA                           </td><td>UK                           </td><td>no                           </td></tr>\n",
       "\t<tr><td>McNeil                       </td><td>Interactive Data Analysis    </td><td>NA                           </td><td>Australia                    </td><td>no                           </td></tr>\n",
       "\t<tr><td><span style=white-space:pre-wrap>R Core  </span>                     </td><td><span style=white-space:pre-wrap>An Introduction to R         </span></td><td>Venables &amp; Smith                                                 </td><td><span style=white-space:pre-wrap>NA       </span>                    </td><td>NA                                                                   </td></tr>\n",
       "</tbody>\n",
       "</table>\n"
      ],
      "text/latex": [
       "\\begin{tabular}{r|lllll}\n",
       " name & title & other.author & nationality & deceased\\\\\n",
       "\\hline\n",
       "\t Tukey                         & Exploratory Data Analysis     & NA                            & US                            & yes                          \\\\\n",
       "\t Venables                      & Modern Applied Statistics ... & Ripley                        & Australia                     & no                           \\\\\n",
       "\t Tierney                       & LISP-STAT                     & NA                            & US                            & no                           \\\\\n",
       "\t Ripley                        & Spatial Statistics            & NA                            & UK                            & no                           \\\\\n",
       "\t Ripley                        & Stochastic Simulation         & NA                            & UK                            & no                           \\\\\n",
       "\t McNeil                        & Interactive Data Analysis     & NA                            & Australia                     & no                           \\\\\n",
       "\t R Core                        & An Introduction to R          & Venables \\& Smith            & NA                            & NA                           \\\\\n",
       "\\end{tabular}\n"
      ],
      "text/markdown": [
       "\n",
       "name | title | other.author | nationality | deceased | \n",
       "|---|---|---|---|---|---|---|\n",
       "| Tukey                         | Exploratory Data Analysis     | NA                            | US                            | yes                           | \n",
       "| Venables                      | Modern Applied Statistics ... | Ripley                        | Australia                     | no                            | \n",
       "| Tierney                       | LISP-STAT                     | NA                            | US                            | no                            | \n",
       "| Ripley                        | Spatial Statistics            | NA                            | UK                            | no                            | \n",
       "| Ripley                        | Stochastic Simulation         | NA                            | UK                            | no                            | \n",
       "| McNeil                        | Interactive Data Analysis     | NA                            | Australia                     | no                            | \n",
       "| R Core                        | An Introduction to R          | Venables & Smith              | NA                            | NA                            | \n",
       "\n",
       "\n"
      ],
      "text/plain": [
       "  name     title                         other.author     nationality deceased\n",
       "1 Tukey    Exploratory Data Analysis     NA               US          yes     \n",
       "2 Venables Modern Applied Statistics ... Ripley           Australia   no      \n",
       "3 Tierney  LISP-STAT                     NA               US          no      \n",
       "4 Ripley   Spatial Statistics            NA               UK          no      \n",
       "5 Ripley   Stochastic Simulation         NA               UK          no      \n",
       "6 McNeil   Interactive Data Analysis     NA               Australia   no      \n",
       "7 R Core   An Introduction to R          Venables & Smith NA          NA      "
      ]
     },
     "metadata": {},
     "output_type": "display_data"
    }
   ],
   "source": [
    "final <- merge(books, authors, by.x = \"name\", by.y = \"surname\", sort=F,all.x=T,all.y=F)\n",
    "final"
   ]
  },
  {
   "cell_type": "markdown",
   "metadata": {},
   "source": [
    "### reference"
   ]
  },
  {
   "cell_type": "markdown",
   "metadata": {},
   "source": [
    "https://en.wikibooks.org/wiki/R_Programming/Working_with_data_frames"
   ]
  }
 ],
 "metadata": {
  "kernelspec": {
   "display_name": "R",
   "language": "R",
   "name": "ir"
  },
  "language_info": {
   "codemirror_mode": "r",
   "file_extension": ".r",
   "mimetype": "text/x-r-source",
   "name": "R",
   "pygments_lexer": "r",
   "version": "3.4.3"
  }
 },
 "nbformat": 4,
 "nbformat_minor": 2
}
