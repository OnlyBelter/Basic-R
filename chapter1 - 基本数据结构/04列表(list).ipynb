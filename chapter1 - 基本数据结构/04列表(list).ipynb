{
 "cells": [
  {
   "cell_type": "markdown",
   "metadata": {},
   "source": [
    "## 列表(List)\n",
    "根据[Hadley Wickham](http://hadley.nz/)在《Advancd R》中的分类方法，列表属于一维异质性的数据结构，即允许同一个list中包含不同类型的数据。"
   ]
  },
  {
   "cell_type": "markdown",
   "metadata": {},
   "source": [
    "### 1. 列表：组合多个不同类型的对象\n",
    "\n",
    "相对来说，列表与前面介绍的数据类型的差别要大一些。在向量、数组及矩阵中，要求所有元素的mode必须相同，数据是**同质**的，即在一个向量或数组中要么全部都是数字，要么全部都是字符串，不允许一部分是数字，一部分是字符串的情况。但在列表中，列表里的元素可以是任何类型(甚至可以包含另一个列表)，而且每个元素可以带一个名称来进行索引(也可以不带)，也就是数据是**异质**的。"
   ]
  },
  {
   "cell_type": "markdown",
   "metadata": {},
   "source": [
    "### 2. 创建列表\n",
    "向量是R语言中最基本的数据类型，也是其他数据类型的基本组成单元，列表也可以由`list`函数将多个向量组合起来而构成。\n",
    "\n",
    "- 列表是由多个元素构成的有序集合；\n",
    "- 元素：元素名称 + 元素值."
   ]
  },
  {
   "cell_type": "code",
   "execution_count": 1,
   "metadata": {},
   "outputs": [],
   "source": [
    "days.name.number <- c(1:7)\n",
    "days.name.full <- c('Monday', 'Tuesday', 'Wednesday', 'Thursday', 'Friday', 'Saturday', 'Sunday')\n",
    "days.name.abbr <- c('Mon.', 'Tue.', 'Wed.', 'Thur.', 'Fri.', 'Sat.', 'Sun.')"
   ]
  },
  {
   "cell_type": "code",
   "execution_count": 2,
   "metadata": {},
   "outputs": [
    {
     "data": {
      "text/html": [
       "<ol class=list-inline>\n",
       "\t<li>'Monday'</li>\n",
       "\t<li>'Tuesday'</li>\n",
       "\t<li>'Wednesday'</li>\n",
       "\t<li>'Thursday'</li>\n",
       "\t<li>'Friday'</li>\n",
       "\t<li>'Saturday'</li>\n",
       "\t<li>'Sunday'</li>\n",
       "</ol>\n"
      ],
      "text/latex": [
       "\\begin{enumerate*}\n",
       "\\item 'Monday'\n",
       "\\item 'Tuesday'\n",
       "\\item 'Wednesday'\n",
       "\\item 'Thursday'\n",
       "\\item 'Friday'\n",
       "\\item 'Saturday'\n",
       "\\item 'Sunday'\n",
       "\\end{enumerate*}\n"
      ],
      "text/markdown": [
       "1. 'Monday'\n",
       "2. 'Tuesday'\n",
       "3. 'Wednesday'\n",
       "4. 'Thursday'\n",
       "5. 'Friday'\n",
       "6. 'Saturday'\n",
       "7. 'Sunday'\n",
       "\n",
       "\n"
      ],
      "text/plain": [
       "[1] \"Monday\"    \"Tuesday\"   \"Wednesday\" \"Thursday\"  \"Friday\"    \"Saturday\" \n",
       "[7] \"Sunday\"   "
      ]
     },
     "metadata": {},
     "output_type": "display_data"
    }
   ],
   "source": [
    "days.name.full"
   ]
  },
  {
   "cell_type": "code",
   "execution_count": 3,
   "metadata": {},
   "outputs": [
    {
     "name": "stdout",
     "output_type": "stream",
     "text": [
      "1 2 3 4 5 6 7"
     ]
    }
   ],
   "source": [
    "cat(days.name.number)"
   ]
  },
  {
   "cell_type": "markdown",
   "metadata": {},
   "source": [
    "下面的列表有两个元素，第一个元素的名称为`full`，元素值为向量`days.name.full`；第二个元素的名称为`abbr`，元素值为向量`days.name.abbr`"
   ]
  },
  {
   "cell_type": "code",
   "execution_count": 4,
   "metadata": {},
   "outputs": [
    {
     "data": {
      "text/html": [
       "<dl>\n",
       "\t<dt>$number</dt>\n",
       "\t\t<dd><ol class=list-inline>\n",
       "\t<li>1</li>\n",
       "\t<li>2</li>\n",
       "\t<li>3</li>\n",
       "\t<li>4</li>\n",
       "\t<li>5</li>\n",
       "\t<li>6</li>\n",
       "\t<li>7</li>\n",
       "</ol>\n",
       "</dd>\n",
       "\t<dt>$full</dt>\n",
       "\t\t<dd><ol class=list-inline>\n",
       "\t<li>'Monday'</li>\n",
       "\t<li>'Tuesday'</li>\n",
       "\t<li>'Wednesday'</li>\n",
       "\t<li>'Thursday'</li>\n",
       "\t<li>'Friday'</li>\n",
       "\t<li>'Saturday'</li>\n",
       "\t<li>'Sunday'</li>\n",
       "</ol>\n",
       "</dd>\n",
       "\t<dt>$abbr</dt>\n",
       "\t\t<dd><ol class=list-inline>\n",
       "\t<li>'Mon.'</li>\n",
       "\t<li>'Tue.'</li>\n",
       "\t<li>'Wed.'</li>\n",
       "\t<li>'Thur.'</li>\n",
       "\t<li>'Fri.'</li>\n",
       "\t<li>'Sat.'</li>\n",
       "\t<li>'Sun.'</li>\n",
       "</ol>\n",
       "</dd>\n",
       "</dl>\n"
      ],
      "text/latex": [
       "\\begin{description}\n",
       "\\item[\\$number] \\begin{enumerate*}\n",
       "\\item 1\n",
       "\\item 2\n",
       "\\item 3\n",
       "\\item 4\n",
       "\\item 5\n",
       "\\item 6\n",
       "\\item 7\n",
       "\\end{enumerate*}\n",
       "\n",
       "\\item[\\$full] \\begin{enumerate*}\n",
       "\\item 'Monday'\n",
       "\\item 'Tuesday'\n",
       "\\item 'Wednesday'\n",
       "\\item 'Thursday'\n",
       "\\item 'Friday'\n",
       "\\item 'Saturday'\n",
       "\\item 'Sunday'\n",
       "\\end{enumerate*}\n",
       "\n",
       "\\item[\\$abbr] \\begin{enumerate*}\n",
       "\\item 'Mon.'\n",
       "\\item 'Tue.'\n",
       "\\item 'Wed.'\n",
       "\\item 'Thur.'\n",
       "\\item 'Fri.'\n",
       "\\item 'Sat.'\n",
       "\\item 'Sun.'\n",
       "\\end{enumerate*}\n",
       "\n",
       "\\end{description}\n"
      ],
      "text/markdown": [
       "$number\n",
       ":   1. 1\n",
       "2. 2\n",
       "3. 3\n",
       "4. 4\n",
       "5. 5\n",
       "6. 6\n",
       "7. 7\n",
       "\n",
       "\n",
       "\n",
       "$full\n",
       ":   1. 'Monday'\n",
       "2. 'Tuesday'\n",
       "3. 'Wednesday'\n",
       "4. 'Thursday'\n",
       "5. 'Friday'\n",
       "6. 'Saturday'\n",
       "7. 'Sunday'\n",
       "\n",
       "\n",
       "\n",
       "$abbr\n",
       ":   1. 'Mon.'\n",
       "2. 'Tue.'\n",
       "3. 'Wed.'\n",
       "4. 'Thur.'\n",
       "5. 'Fri.'\n",
       "6. 'Sat.'\n",
       "7. 'Sun.'\n",
       "\n",
       "\n",
       "\n",
       "\n",
       "\n"
      ],
      "text/plain": [
       "$number\n",
       "[1] 1 2 3 4 5 6 7\n",
       "\n",
       "$full\n",
       "[1] \"Monday\"    \"Tuesday\"   \"Wednesday\" \"Thursday\"  \"Friday\"    \"Saturday\" \n",
       "[7] \"Sunday\"   \n",
       "\n",
       "$abbr\n",
       "[1] \"Mon.\"  \"Tue.\"  \"Wed.\"  \"Thur.\" \"Fri.\"  \"Sat.\"  \"Sun.\" \n"
      ]
     },
     "metadata": {},
     "output_type": "display_data"
    }
   ],
   "source": [
    "days.name <- list('number'=days.name.number, 'full'=days.name.full, 'abbr'=days.name.abbr)\n",
    "days.name"
   ]
  },
  {
   "cell_type": "markdown",
   "metadata": {},
   "source": [
    "### 3. 列表索引\n",
    "\n",
    "- R中使用的美元符号`$`在其他语言中不常见"
   ]
  },
  {
   "cell_type": "markdown",
   "metadata": {},
   "source": [
    "#### 3.1 使用元素名获取元素"
   ]
  },
  {
   "cell_type": "code",
   "execution_count": 5,
   "metadata": {},
   "outputs": [
    {
     "data": {
      "text/html": [
       "<ol class=list-inline>\n",
       "\t<li>'Monday'</li>\n",
       "\t<li>'Tuesday'</li>\n",
       "\t<li>'Wednesday'</li>\n",
       "\t<li>'Thursday'</li>\n",
       "\t<li>'Friday'</li>\n",
       "\t<li>'Saturday'</li>\n",
       "\t<li>'Sunday'</li>\n",
       "</ol>\n"
      ],
      "text/latex": [
       "\\begin{enumerate*}\n",
       "\\item 'Monday'\n",
       "\\item 'Tuesday'\n",
       "\\item 'Wednesday'\n",
       "\\item 'Thursday'\n",
       "\\item 'Friday'\n",
       "\\item 'Saturday'\n",
       "\\item 'Sunday'\n",
       "\\end{enumerate*}\n"
      ],
      "text/markdown": [
       "1. 'Monday'\n",
       "2. 'Tuesday'\n",
       "3. 'Wednesday'\n",
       "4. 'Thursday'\n",
       "5. 'Friday'\n",
       "6. 'Saturday'\n",
       "7. 'Sunday'\n",
       "\n",
       "\n"
      ],
      "text/plain": [
       "[1] \"Monday\"    \"Tuesday\"   \"Wednesday\" \"Thursday\"  \"Friday\"    \"Saturday\" \n",
       "[7] \"Sunday\"   "
      ]
     },
     "metadata": {},
     "output_type": "display_data"
    }
   ],
   "source": [
    "days.name$full  # 使用美元符号，直接得到对应元素的元素值"
   ]
  },
  {
   "cell_type": "code",
   "execution_count": 6,
   "metadata": {},
   "outputs": [
    {
     "data": {
      "text/html": [
       "<strong>$full</strong> = <ol class=list-inline>\n",
       "\t<li>'Monday'</li>\n",
       "\t<li>'Tuesday'</li>\n",
       "\t<li>'Wednesday'</li>\n",
       "\t<li>'Thursday'</li>\n",
       "\t<li>'Friday'</li>\n",
       "\t<li>'Saturday'</li>\n",
       "\t<li>'Sunday'</li>\n",
       "</ol>\n"
      ],
      "text/latex": [
       "\\textbf{\\$full} = \\begin{enumerate*}\n",
       "\\item 'Monday'\n",
       "\\item 'Tuesday'\n",
       "\\item 'Wednesday'\n",
       "\\item 'Thursday'\n",
       "\\item 'Friday'\n",
       "\\item 'Saturday'\n",
       "\\item 'Sunday'\n",
       "\\end{enumerate*}\n"
      ],
      "text/markdown": [
       "**$full** = 1. 'Monday'\n",
       "2. 'Tuesday'\n",
       "3. 'Wednesday'\n",
       "4. 'Thursday'\n",
       "5. 'Friday'\n",
       "6. 'Saturday'\n",
       "7. 'Sunday'\n",
       "\n",
       "\n"
      ],
      "text/plain": [
       "$full\n",
       "[1] \"Monday\"    \"Tuesday\"   \"Wednesday\" \"Thursday\"  \"Friday\"    \"Saturday\" \n",
       "[7] \"Sunday\"   \n"
      ]
     },
     "metadata": {},
     "output_type": "display_data"
    }
   ],
   "source": [
    "days.name['full']  # 使用方括号，得到整个元素(包括元素名称和元素值)"
   ]
  },
  {
   "cell_type": "code",
   "execution_count": 7,
   "metadata": {},
   "outputs": [
    {
     "data": {
      "text/html": [
       "<ol class=list-inline>\n",
       "\t<li>'Monday'</li>\n",
       "\t<li>'Tuesday'</li>\n",
       "\t<li>'Wednesday'</li>\n",
       "\t<li>'Thursday'</li>\n",
       "\t<li>'Friday'</li>\n",
       "\t<li>'Saturday'</li>\n",
       "\t<li>'Sunday'</li>\n",
       "</ol>\n"
      ],
      "text/latex": [
       "\\begin{enumerate*}\n",
       "\\item 'Monday'\n",
       "\\item 'Tuesday'\n",
       "\\item 'Wednesday'\n",
       "\\item 'Thursday'\n",
       "\\item 'Friday'\n",
       "\\item 'Saturday'\n",
       "\\item 'Sunday'\n",
       "\\end{enumerate*}\n"
      ],
      "text/markdown": [
       "1. 'Monday'\n",
       "2. 'Tuesday'\n",
       "3. 'Wednesday'\n",
       "4. 'Thursday'\n",
       "5. 'Friday'\n",
       "6. 'Saturday'\n",
       "7. 'Sunday'\n",
       "\n",
       "\n"
      ],
      "text/plain": [
       "[1] \"Monday\"    \"Tuesday\"   \"Wednesday\" \"Thursday\"  \"Friday\"    \"Saturday\" \n",
       "[7] \"Sunday\"   "
      ]
     },
     "metadata": {},
     "output_type": "display_data"
    }
   ],
   "source": [
    "days.name[['full']]  #使用双层方括号，可以直接取出对应元素的值"
   ]
  },
  {
   "cell_type": "markdown",
   "metadata": {},
   "source": [
    "#### 3.2 使用数字索引\n",
    "R中的列表与Python中的字典非常像，但是R中的列表是有序的，因此除了使用元素的名称来取出对应元素值外，还可以使用代表该元素顺序的数字来取出元素值。"
   ]
  },
  {
   "cell_type": "code",
   "execution_count": 8,
   "metadata": {},
   "outputs": [
    {
     "data": {
      "text/html": [
       "<strong>$full</strong> = <ol class=list-inline>\n",
       "\t<li>'Monday'</li>\n",
       "\t<li>'Tuesday'</li>\n",
       "\t<li>'Wednesday'</li>\n",
       "\t<li>'Thursday'</li>\n",
       "\t<li>'Friday'</li>\n",
       "\t<li>'Saturday'</li>\n",
       "\t<li>'Sunday'</li>\n",
       "</ol>\n"
      ],
      "text/latex": [
       "\\textbf{\\$full} = \\begin{enumerate*}\n",
       "\\item 'Monday'\n",
       "\\item 'Tuesday'\n",
       "\\item 'Wednesday'\n",
       "\\item 'Thursday'\n",
       "\\item 'Friday'\n",
       "\\item 'Saturday'\n",
       "\\item 'Sunday'\n",
       "\\end{enumerate*}\n"
      ],
      "text/markdown": [
       "**$full** = 1. 'Monday'\n",
       "2. 'Tuesday'\n",
       "3. 'Wednesday'\n",
       "4. 'Thursday'\n",
       "5. 'Friday'\n",
       "6. 'Saturday'\n",
       "7. 'Sunday'\n",
       "\n",
       "\n"
      ],
      "text/plain": [
       "$full\n",
       "[1] \"Monday\"    \"Tuesday\"   \"Wednesday\" \"Thursday\"  \"Friday\"    \"Saturday\" \n",
       "[7] \"Sunday\"   \n"
      ]
     },
     "metadata": {},
     "output_type": "display_data"
    }
   ],
   "source": [
    "days.name[2]  # 第2个完整的元素"
   ]
  },
  {
   "cell_type": "code",
   "execution_count": 9,
   "metadata": {},
   "outputs": [
    {
     "data": {
      "text/html": [
       "<ol class=list-inline>\n",
       "\t<li>'Monday'</li>\n",
       "\t<li>'Tuesday'</li>\n",
       "\t<li>'Wednesday'</li>\n",
       "\t<li>'Thursday'</li>\n",
       "\t<li>'Friday'</li>\n",
       "\t<li>'Saturday'</li>\n",
       "\t<li>'Sunday'</li>\n",
       "</ol>\n"
      ],
      "text/latex": [
       "\\begin{enumerate*}\n",
       "\\item 'Monday'\n",
       "\\item 'Tuesday'\n",
       "\\item 'Wednesday'\n",
       "\\item 'Thursday'\n",
       "\\item 'Friday'\n",
       "\\item 'Saturday'\n",
       "\\item 'Sunday'\n",
       "\\end{enumerate*}\n"
      ],
      "text/markdown": [
       "1. 'Monday'\n",
       "2. 'Tuesday'\n",
       "3. 'Wednesday'\n",
       "4. 'Thursday'\n",
       "5. 'Friday'\n",
       "6. 'Saturday'\n",
       "7. 'Sunday'\n",
       "\n",
       "\n"
      ],
      "text/plain": [
       "[1] \"Monday\"    \"Tuesday\"   \"Wednesday\" \"Thursday\"  \"Friday\"    \"Saturday\" \n",
       "[7] \"Sunday\"   "
      ]
     },
     "metadata": {},
     "output_type": "display_data"
    }
   ],
   "source": [
    "days.name[[2]]  # 第2个元素的元素值"
   ]
  },
  {
   "cell_type": "code",
   "execution_count": 10,
   "metadata": {},
   "outputs": [
    {
     "data": {
      "text/html": [
       "<ol class=list-inline>\n",
       "\t<li>'Monday'</li>\n",
       "\t<li>'Tuesday'</li>\n",
       "\t<li>'Wednesday'</li>\n",
       "\t<li>'Thursday'</li>\n",
       "\t<li>'Friday'</li>\n",
       "\t<li>'Saturday'</li>\n",
       "\t<li>'Sunday'</li>\n",
       "</ol>\n"
      ],
      "text/latex": [
       "\\begin{enumerate*}\n",
       "\\item 'Monday'\n",
       "\\item 'Tuesday'\n",
       "\\item 'Wednesday'\n",
       "\\item 'Thursday'\n",
       "\\item 'Friday'\n",
       "\\item 'Saturday'\n",
       "\\item 'Sunday'\n",
       "\\end{enumerate*}\n"
      ],
      "text/markdown": [
       "1. 'Monday'\n",
       "2. 'Tuesday'\n",
       "3. 'Wednesday'\n",
       "4. 'Thursday'\n",
       "5. 'Friday'\n",
       "6. 'Saturday'\n",
       "7. 'Sunday'\n",
       "\n",
       "\n"
      ],
      "text/plain": [
       "[1] \"Monday\"    \"Tuesday\"   \"Wednesday\" \"Thursday\"  \"Friday\"    \"Saturday\" \n",
       "[7] \"Sunday\"   "
      ]
     },
     "metadata": {},
     "output_type": "display_data"
    }
   ],
   "source": [
    "days.name['full'][[1]]  # 先使用元素名得到整个元素，然后使用数字索引得到元素值"
   ]
  },
  {
   "cell_type": "markdown",
   "metadata": {},
   "source": [
    "### 4. 列表的属性"
   ]
  },
  {
   "cell_type": "markdown",
   "metadata": {},
   "source": [
    "#### 4.1 查看类型"
   ]
  },
  {
   "cell_type": "code",
   "execution_count": 11,
   "metadata": {},
   "outputs": [
    {
     "data": {
      "text/html": [
       "'list'"
      ],
      "text/latex": [
       "'list'"
      ],
      "text/markdown": [
       "'list'"
      ],
      "text/plain": [
       "[1] \"list\""
      ]
     },
     "metadata": {},
     "output_type": "display_data"
    }
   ],
   "source": [
    "mode(days.name)"
   ]
  },
  {
   "cell_type": "code",
   "execution_count": 12,
   "metadata": {},
   "outputs": [
    {
     "data": {
      "text/html": [
       "'character'"
      ],
      "text/latex": [
       "'character'"
      ],
      "text/markdown": [
       "'character'"
      ],
      "text/plain": [
       "[1] \"character\""
      ]
     },
     "metadata": {},
     "output_type": "display_data"
    }
   ],
   "source": [
    "mode(days.name$full)"
   ]
  },
  {
   "cell_type": "code",
   "execution_count": 13,
   "metadata": {},
   "outputs": [
    {
     "data": {
      "text/html": [
       "'numeric'"
      ],
      "text/latex": [
       "'numeric'"
      ],
      "text/markdown": [
       "'numeric'"
      ],
      "text/plain": [
       "[1] \"numeric\""
      ]
     },
     "metadata": {},
     "output_type": "display_data"
    }
   ],
   "source": [
    "mode(days.name$number)"
   ]
  },
  {
   "cell_type": "code",
   "execution_count": 14,
   "metadata": {},
   "outputs": [
    {
     "data": {
      "text/html": [
       "TRUE"
      ],
      "text/latex": [
       "TRUE"
      ],
      "text/markdown": [
       "TRUE"
      ],
      "text/plain": [
       "[1] TRUE"
      ]
     },
     "metadata": {},
     "output_type": "display_data"
    }
   ],
   "source": [
    "is.list(days.name)"
   ]
  },
  {
   "cell_type": "markdown",
   "metadata": {},
   "source": [
    "#### 4.2 长度\n",
    "元素的个数"
   ]
  },
  {
   "cell_type": "code",
   "execution_count": 15,
   "metadata": {},
   "outputs": [
    {
     "data": {
      "text/html": [
       "3"
      ],
      "text/latex": [
       "3"
      ],
      "text/markdown": [
       "3"
      ],
      "text/plain": [
       "[1] 3"
      ]
     },
     "metadata": {},
     "output_type": "display_data"
    }
   ],
   "source": [
    "length(days.name)"
   ]
  },
  {
   "cell_type": "markdown",
   "metadata": {},
   "source": [
    "#### 4.3 元素的名称"
   ]
  },
  {
   "cell_type": "code",
   "execution_count": 16,
   "metadata": {},
   "outputs": [
    {
     "data": {
      "text/html": [
       "<ol class=list-inline>\n",
       "\t<li>'number'</li>\n",
       "\t<li>'full'</li>\n",
       "\t<li>'abbr'</li>\n",
       "</ol>\n"
      ],
      "text/latex": [
       "\\begin{enumerate*}\n",
       "\\item 'number'\n",
       "\\item 'full'\n",
       "\\item 'abbr'\n",
       "\\end{enumerate*}\n"
      ],
      "text/markdown": [
       "1. 'number'\n",
       "2. 'full'\n",
       "3. 'abbr'\n",
       "\n",
       "\n"
      ],
      "text/plain": [
       "[1] \"number\" \"full\"   \"abbr\"  "
      ]
     },
     "metadata": {},
     "output_type": "display_data"
    }
   ],
   "source": [
    "names(days.name)"
   ]
  },
  {
   "cell_type": "code",
   "execution_count": 17,
   "metadata": {},
   "outputs": [
    {
     "data": {
      "text/html": [
       "<strong>$names</strong> = <ol class=list-inline>\n",
       "\t<li>'number'</li>\n",
       "\t<li>'full'</li>\n",
       "\t<li>'abbr'</li>\n",
       "</ol>\n"
      ],
      "text/latex": [
       "\\textbf{\\$names} = \\begin{enumerate*}\n",
       "\\item 'number'\n",
       "\\item 'full'\n",
       "\\item 'abbr'\n",
       "\\end{enumerate*}\n"
      ],
      "text/markdown": [
       "**$names** = 1. 'number'\n",
       "2. 'full'\n",
       "3. 'abbr'\n",
       "\n",
       "\n"
      ],
      "text/plain": [
       "$names\n",
       "[1] \"number\" \"full\"   \"abbr\"  \n"
      ]
     },
     "metadata": {},
     "output_type": "display_data"
    }
   ],
   "source": [
    "attributes(days.name)"
   ]
  },
  {
   "cell_type": "markdown",
   "metadata": {},
   "source": [
    "#### 4.4 使用`str`查看列表的内部结构\n",
    "这个方法在list非常大或内部结构比较复杂时，很有用。"
   ]
  },
  {
   "cell_type": "code",
   "execution_count": 18,
   "metadata": {},
   "outputs": [
    {
     "name": "stdout",
     "output_type": "stream",
     "text": [
      "List of 3\n",
      " $ number: int [1:7] 1 2 3 4 5 6 7\n",
      " $ full  : chr [1:7] \"Monday\" \"Tuesday\" \"Wednesday\" \"Thursday\" ...\n",
      " $ abbr  : chr [1:7] \"Mon.\" \"Tue.\" \"Wed.\" \"Thur.\" ...\n"
     ]
    }
   ],
   "source": [
    "str(days.name)"
   ]
  },
  {
   "cell_type": "markdown",
   "metadata": {},
   "source": [
    "### 5. 添加及删除函数"
   ]
  },
  {
   "cell_type": "code",
   "execution_count": 19,
   "metadata": {},
   "outputs": [
    {
     "data": {
      "text/html": [
       "<strong>$days.name</strong> = <dl>\n",
       "\t<dt>$number</dt>\n",
       "\t\t<dd><ol class=list-inline>\n",
       "\t<li>1</li>\n",
       "\t<li>2</li>\n",
       "\t<li>3</li>\n",
       "\t<li>4</li>\n",
       "\t<li>5</li>\n",
       "\t<li>6</li>\n",
       "\t<li>7</li>\n",
       "</ol>\n",
       "</dd>\n",
       "\t<dt>$full</dt>\n",
       "\t\t<dd><ol class=list-inline>\n",
       "\t<li>'Monday'</li>\n",
       "\t<li>'Tuesday'</li>\n",
       "\t<li>'Wednesday'</li>\n",
       "\t<li>'Thursday'</li>\n",
       "\t<li>'Friday'</li>\n",
       "\t<li>'Saturday'</li>\n",
       "\t<li>'Sunday'</li>\n",
       "</ol>\n",
       "</dd>\n",
       "\t<dt>$abbr</dt>\n",
       "\t\t<dd><ol class=list-inline>\n",
       "\t<li>'Mon.'</li>\n",
       "\t<li>'Tue.'</li>\n",
       "\t<li>'Wed.'</li>\n",
       "\t<li>'Thur.'</li>\n",
       "\t<li>'Fri.'</li>\n",
       "\t<li>'Sat.'</li>\n",
       "\t<li>'Sun.'</li>\n",
       "</ol>\n",
       "</dd>\n",
       "</dl>\n"
      ],
      "text/latex": [
       "\\textbf{\\$days.name} = \\begin{description}\n",
       "\\item[\\$number] \\begin{enumerate*}\n",
       "\\item 1\n",
       "\\item 2\n",
       "\\item 3\n",
       "\\item 4\n",
       "\\item 5\n",
       "\\item 6\n",
       "\\item 7\n",
       "\\end{enumerate*}\n",
       "\n",
       "\\item[\\$full] \\begin{enumerate*}\n",
       "\\item 'Monday'\n",
       "\\item 'Tuesday'\n",
       "\\item 'Wednesday'\n",
       "\\item 'Thursday'\n",
       "\\item 'Friday'\n",
       "\\item 'Saturday'\n",
       "\\item 'Sunday'\n",
       "\\end{enumerate*}\n",
       "\n",
       "\\item[\\$abbr] \\begin{enumerate*}\n",
       "\\item 'Mon.'\n",
       "\\item 'Tue.'\n",
       "\\item 'Wed.'\n",
       "\\item 'Thur.'\n",
       "\\item 'Fri.'\n",
       "\\item 'Sat.'\n",
       "\\item 'Sun.'\n",
       "\\end{enumerate*}\n",
       "\n",
       "\\end{description}\n"
      ],
      "text/markdown": [
       "**$days.name** = $number\n",
       ":   1. 1\n",
       "2. 2\n",
       "3. 3\n",
       "4. 4\n",
       "5. 5\n",
       "6. 6\n",
       "7. 7\n",
       "\n",
       "\n",
       "\n",
       "$full\n",
       ":   1. 'Monday'\n",
       "2. 'Tuesday'\n",
       "3. 'Wednesday'\n",
       "4. 'Thursday'\n",
       "5. 'Friday'\n",
       "6. 'Saturday'\n",
       "7. 'Sunday'\n",
       "\n",
       "\n",
       "\n",
       "$abbr\n",
       ":   1. 'Mon.'\n",
       "2. 'Tue.'\n",
       "3. 'Wed.'\n",
       "4. 'Thur.'\n",
       "5. 'Fri.'\n",
       "6. 'Sat.'\n",
       "7. 'Sun.'\n",
       "\n",
       "\n",
       "\n",
       "\n",
       "\n"
      ],
      "text/plain": [
       "$days.name\n",
       "$days.name$number\n",
       "[1] 1 2 3 4 5 6 7\n",
       "\n",
       "$days.name$full\n",
       "[1] \"Monday\"    \"Tuesday\"   \"Wednesday\" \"Thursday\"  \"Friday\"    \"Saturday\" \n",
       "[7] \"Sunday\"   \n",
       "\n",
       "$days.name$abbr\n",
       "[1] \"Mon.\"  \"Tue.\"  \"Wed.\"  \"Thur.\" \"Fri.\"  \"Sat.\"  \"Sun.\" \n",
       "\n"
      ]
     },
     "metadata": {},
     "output_type": "display_data"
    }
   ],
   "source": [
    "some.names <- list('days.name'=days.name)\n",
    "some.names"
   ]
  },
  {
   "cell_type": "code",
   "execution_count": 20,
   "metadata": {},
   "outputs": [
    {
     "data": {
      "text/html": [
       "1"
      ],
      "text/latex": [
       "1"
      ],
      "text/markdown": [
       "1"
      ],
      "text/plain": [
       "[1] 1"
      ]
     },
     "metadata": {},
     "output_type": "display_data"
    }
   ],
   "source": [
    "length(some.names)"
   ]
  },
  {
   "cell_type": "code",
   "execution_count": 21,
   "metadata": {},
   "outputs": [
    {
     "data": {
      "text/html": [
       "'list'"
      ],
      "text/latex": [
       "'list'"
      ],
      "text/markdown": [
       "'list'"
      ],
      "text/plain": [
       "[1] \"list\""
      ]
     },
     "metadata": {},
     "output_type": "display_data"
    }
   ],
   "source": [
    "mode(some.names)"
   ]
  },
  {
   "cell_type": "markdown",
   "metadata": {},
   "source": [
    "#### 5.1 添加元素"
   ]
  },
  {
   "cell_type": "code",
   "execution_count": 22,
   "metadata": {},
   "outputs": [],
   "source": [
    "some.names$color <- c('red', 'yellow', 'black', 'green', 'blue')  # 直接添加到列表的末尾\n",
    "some.names$shape <- c('line', 'circle', 'square', 'triangle', 'ellipse')"
   ]
  },
  {
   "cell_type": "code",
   "execution_count": 23,
   "metadata": {},
   "outputs": [
    {
     "data": {
      "text/html": [
       "3"
      ],
      "text/latex": [
       "3"
      ],
      "text/markdown": [
       "3"
      ],
      "text/plain": [
       "[1] 3"
      ]
     },
     "metadata": {},
     "output_type": "display_data"
    }
   ],
   "source": [
    "length(some.names)  # 现在一共有3个元素"
   ]
  },
  {
   "cell_type": "code",
   "execution_count": 24,
   "metadata": {},
   "outputs": [
    {
     "name": "stdout",
     "output_type": "stream",
     "text": [
      "List of 3\n",
      " $ days.name:List of 3\n",
      "  ..$ number: int [1:7] 1 2 3 4 5 6 7\n",
      "  ..$ full  : chr [1:7] \"Monday\" \"Tuesday\" \"Wednesday\" \"Thursday\" ...\n",
      "  ..$ abbr  : chr [1:7] \"Mon.\" \"Tue.\" \"Wed.\" \"Thur.\" ...\n",
      " $ color    : chr [1:5] \"red\" \"yellow\" \"black\" \"green\" ...\n",
      " $ shape    : chr [1:5] \"line\" \"circle\" \"square\" \"triangle\" ...\n"
     ]
    }
   ],
   "source": [
    "str(some.names)"
   ]
  },
  {
   "cell_type": "code",
   "execution_count": 25,
   "metadata": {},
   "outputs": [
    {
     "data": {
      "text/html": [
       "<ol class=list-inline>\n",
       "\t<li>'red'</li>\n",
       "\t<li>'yellow'</li>\n",
       "\t<li>'black'</li>\n",
       "\t<li>'green'</li>\n",
       "\t<li>'blue'</li>\n",
       "</ol>\n"
      ],
      "text/latex": [
       "\\begin{enumerate*}\n",
       "\\item 'red'\n",
       "\\item 'yellow'\n",
       "\\item 'black'\n",
       "\\item 'green'\n",
       "\\item 'blue'\n",
       "\\end{enumerate*}\n"
      ],
      "text/markdown": [
       "1. 'red'\n",
       "2. 'yellow'\n",
       "3. 'black'\n",
       "4. 'green'\n",
       "5. 'blue'\n",
       "\n",
       "\n"
      ],
      "text/plain": [
       "[1] \"red\"    \"yellow\" \"black\"  \"green\"  \"blue\"  "
      ]
     },
     "metadata": {},
     "output_type": "display_data"
    }
   ],
   "source": [
    "some.names[[2]]  # 新添加的第二个元素"
   ]
  },
  {
   "cell_type": "markdown",
   "metadata": {},
   "source": [
    "#### 5.2 删除元素\n",
    "将要删除的元素的值设为NULL，后面的元素索引会减1"
   ]
  },
  {
   "cell_type": "code",
   "execution_count": 26,
   "metadata": {},
   "outputs": [],
   "source": [
    "some.names[[2]] <- NULL"
   ]
  },
  {
   "cell_type": "code",
   "execution_count": 27,
   "metadata": {},
   "outputs": [
    {
     "name": "stdout",
     "output_type": "stream",
     "text": [
      "List of 2\n",
      " $ days.name:List of 3\n",
      "  ..$ number: int [1:7] 1 2 3 4 5 6 7\n",
      "  ..$ full  : chr [1:7] \"Monday\" \"Tuesday\" \"Wednesday\" \"Thursday\" ...\n",
      "  ..$ abbr  : chr [1:7] \"Mon.\" \"Tue.\" \"Wed.\" \"Thur.\" ...\n",
      " $ shape    : chr [1:5] \"line\" \"circle\" \"square\" \"triangle\" ...\n"
     ]
    }
   ],
   "source": [
    "str(some.names)  # 第二个元素已经被删除"
   ]
  },
  {
   "cell_type": "code",
   "execution_count": 28,
   "metadata": {},
   "outputs": [
    {
     "data": {
      "text/html": [
       "<ol class=list-inline>\n",
       "\t<li>'line'</li>\n",
       "\t<li>'circle'</li>\n",
       "\t<li>'square'</li>\n",
       "\t<li>'triangle'</li>\n",
       "\t<li>'ellipse'</li>\n",
       "</ol>\n"
      ],
      "text/latex": [
       "\\begin{enumerate*}\n",
       "\\item 'line'\n",
       "\\item 'circle'\n",
       "\\item 'square'\n",
       "\\item 'triangle'\n",
       "\\item 'ellipse'\n",
       "\\end{enumerate*}\n"
      ],
      "text/markdown": [
       "1. 'line'\n",
       "2. 'circle'\n",
       "3. 'square'\n",
       "4. 'triangle'\n",
       "5. 'ellipse'\n",
       "\n",
       "\n"
      ],
      "text/plain": [
       "[1] \"line\"     \"circle\"   \"square\"   \"triangle\" \"ellipse\" "
      ]
     },
     "metadata": {},
     "output_type": "display_data"
    }
   ],
   "source": [
    "some.names[[2]]  # 原来的第三个元素向前移了一位"
   ]
  },
  {
   "cell_type": "markdown",
   "metadata": {},
   "source": [
    "### 6. 切片\n",
    "列表不仅可以使用数字或元素名称取单个元素的值，也可以按照一定的条件同时取多个元素的值"
   ]
  },
  {
   "cell_type": "code",
   "execution_count": 29,
   "metadata": {},
   "outputs": [
    {
     "data": {
      "text/html": [
       "<dl>\n",
       "\t<dt>$days.name</dt>\n",
       "\t\t<dd><dl>\n",
       "\t<dt>$number</dt>\n",
       "\t\t<dd><ol class=list-inline>\n",
       "\t<li>1</li>\n",
       "\t<li>2</li>\n",
       "\t<li>3</li>\n",
       "\t<li>4</li>\n",
       "\t<li>5</li>\n",
       "\t<li>6</li>\n",
       "\t<li>7</li>\n",
       "</ol>\n",
       "</dd>\n",
       "\t<dt>$full</dt>\n",
       "\t\t<dd><ol class=list-inline>\n",
       "\t<li>'Monday'</li>\n",
       "\t<li>'Tuesday'</li>\n",
       "\t<li>'Wednesday'</li>\n",
       "\t<li>'Thursday'</li>\n",
       "\t<li>'Friday'</li>\n",
       "\t<li>'Saturday'</li>\n",
       "\t<li>'Sunday'</li>\n",
       "</ol>\n",
       "</dd>\n",
       "\t<dt>$abbr</dt>\n",
       "\t\t<dd><ol class=list-inline>\n",
       "\t<li>'Mon.'</li>\n",
       "\t<li>'Tue.'</li>\n",
       "\t<li>'Wed.'</li>\n",
       "\t<li>'Thur.'</li>\n",
       "\t<li>'Fri.'</li>\n",
       "\t<li>'Sat.'</li>\n",
       "\t<li>'Sun.'</li>\n",
       "</ol>\n",
       "</dd>\n",
       "</dl>\n",
       "</dd>\n",
       "\t<dt>$shape</dt>\n",
       "\t\t<dd><ol class=list-inline>\n",
       "\t<li>'line'</li>\n",
       "\t<li>'circle'</li>\n",
       "\t<li>'square'</li>\n",
       "\t<li>'triangle'</li>\n",
       "\t<li>'ellipse'</li>\n",
       "</ol>\n",
       "</dd>\n",
       "</dl>\n"
      ],
      "text/latex": [
       "\\begin{description}\n",
       "\\item[\\$days.name] \\begin{description}\n",
       "\\item[\\$number] \\begin{enumerate*}\n",
       "\\item 1\n",
       "\\item 2\n",
       "\\item 3\n",
       "\\item 4\n",
       "\\item 5\n",
       "\\item 6\n",
       "\\item 7\n",
       "\\end{enumerate*}\n",
       "\n",
       "\\item[\\$full] \\begin{enumerate*}\n",
       "\\item 'Monday'\n",
       "\\item 'Tuesday'\n",
       "\\item 'Wednesday'\n",
       "\\item 'Thursday'\n",
       "\\item 'Friday'\n",
       "\\item 'Saturday'\n",
       "\\item 'Sunday'\n",
       "\\end{enumerate*}\n",
       "\n",
       "\\item[\\$abbr] \\begin{enumerate*}\n",
       "\\item 'Mon.'\n",
       "\\item 'Tue.'\n",
       "\\item 'Wed.'\n",
       "\\item 'Thur.'\n",
       "\\item 'Fri.'\n",
       "\\item 'Sat.'\n",
       "\\item 'Sun.'\n",
       "\\end{enumerate*}\n",
       "\n",
       "\\end{description}\n",
       "\n",
       "\\item[\\$shape] \\begin{enumerate*}\n",
       "\\item 'line'\n",
       "\\item 'circle'\n",
       "\\item 'square'\n",
       "\\item 'triangle'\n",
       "\\item 'ellipse'\n",
       "\\end{enumerate*}\n",
       "\n",
       "\\end{description}\n"
      ],
      "text/markdown": [
       "$days.name\n",
       ":   $number\n",
       ":   1. 1\n",
       "2. 2\n",
       "3. 3\n",
       "4. 4\n",
       "5. 5\n",
       "6. 6\n",
       "7. 7\n",
       "\n",
       "\n",
       "\n",
       "$full\n",
       ":   1. 'Monday'\n",
       "2. 'Tuesday'\n",
       "3. 'Wednesday'\n",
       "4. 'Thursday'\n",
       "5. 'Friday'\n",
       "6. 'Saturday'\n",
       "7. 'Sunday'\n",
       "\n",
       "\n",
       "\n",
       "$abbr\n",
       ":   1. 'Mon.'\n",
       "2. 'Tue.'\n",
       "3. 'Wed.'\n",
       "4. 'Thur.'\n",
       "5. 'Fri.'\n",
       "6. 'Sat.'\n",
       "7. 'Sun.'\n",
       "\n",
       "\n",
       "\n",
       "\n",
       "\n",
       "\n",
       "$shape\n",
       ":   1. 'line'\n",
       "2. 'circle'\n",
       "3. 'square'\n",
       "4. 'triangle'\n",
       "5. 'ellipse'\n",
       "\n",
       "\n",
       "\n",
       "\n",
       "\n"
      ],
      "text/plain": [
       "$days.name\n",
       "$days.name$number\n",
       "[1] 1 2 3 4 5 6 7\n",
       "\n",
       "$days.name$full\n",
       "[1] \"Monday\"    \"Tuesday\"   \"Wednesday\" \"Thursday\"  \"Friday\"    \"Saturday\" \n",
       "[7] \"Sunday\"   \n",
       "\n",
       "$days.name$abbr\n",
       "[1] \"Mon.\"  \"Tue.\"  \"Wed.\"  \"Thur.\" \"Fri.\"  \"Sat.\"  \"Sun.\" \n",
       "\n",
       "\n",
       "$shape\n",
       "[1] \"line\"     \"circle\"   \"square\"   \"triangle\" \"ellipse\" \n"
      ]
     },
     "metadata": {},
     "output_type": "display_data"
    }
   ],
   "source": [
    "some.names[1:2]  # 同时取第一个元素和第二个元素"
   ]
  },
  {
   "cell_type": "markdown",
   "metadata": {},
   "source": [
    "---\n",
    "### 7. R中的列表与Python中的字典\n",
    "虽然看起来有点像，但R中的list与Python中的字典还是有很大差别的，主要体现在下面几个方面：\n",
    "\n",
    "#### 7.1 可以没有键名\n",
    "Python中的字典是键值对，必须有键名，但R的list可以没有键名，默认键名为[[n]]，n为元素所在位置。\n",
    "\n",
    "#### 7.2 有序，且允许键值重复\n",
    "这应该是R的list与Python中的dictionary最大的区别了。Peal中的hash及Python中dic的最大特点就是无序且键值唯一，这样在牺牲有序性的情况下保证了数据存取的高效性。但R中的list这两方面都不满足。其性能与hash及dic应该也有差别吧(没比较过)。"
   ]
  },
  {
   "cell_type": "markdown",
   "metadata": {},
   "source": []
  }
 ],
 "metadata": {
  "kernelspec": {
   "display_name": "R",
   "language": "R",
   "name": "ir"
  },
  "language_info": {
   "codemirror_mode": "r",
   "file_extension": ".r",
   "mimetype": "text/x-r-source",
   "name": "R",
   "pygments_lexer": "r",
   "version": "3.4.3"
  }
 },
 "nbformat": 4,
 "nbformat_minor": 2
}
