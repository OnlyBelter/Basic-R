{
 "cells": [
  {
   "cell_type": "markdown",
   "metadata": {},
   "source": [
    "## 1. 数据科学的组成\n",
    "- 数理统计\n",
    "- 编程\n",
    "- 专业领域\n",
    "\n",
    "<img src='data-science.png' width=650/>\n",
    "\n",
    "from: https://towardsdatascience.com/introduction-to-statistics-e9d72d818745"
   ]
  },
  {
   "cell_type": "markdown",
   "metadata": {},
   "source": [
    "## 2. R语言的特点\n",
    "一下部分参考张丹(Conan)的博客，粉丝日志中对R的综述\n",
    "- http://blog.fens.me/r-overview/"
   ]
  },
  {
   "cell_type": "markdown",
   "metadata": {},
   "source": [
    "### 2.1 R语言知识体系概览：\n",
    "\n",
    "<img src=\"rbase.png\" width=650/>"
   ]
  },
  {
   "cell_type": "markdown",
   "metadata": {},
   "source": [
    "图中作者张丹将R语言知识体系结构分为3个部分：IT技术 + 业务知识 + 基础学科，与上面介绍的数据科学的组成相似。\n",
    "- IT技术：是计算时代必备的技术之一，R语言就是一种我们应该要掌握技术。\n",
    "- 业务知识(或专业领域知识)：是市场经验和法则，不管你在什么公司，都会有自己的产品、销售、市场等，你要了解你的公司产品有什么，客户是谁，怎么才能把产品卖给你的客户。\n",
    "- 基础学科：是我们这十几年在学校学的理论知识，当初学的时候并不知道是为了什么，毕业后如果你还能掌握一些知识并实际运用，那么这将是你最有价值的竞争力。\n",
    "每个部分知识单独看都有其局限性，但如果能把知识两两结合起来，就构成了我们现在社会的各种技术创新点。"
   ]
  },
  {
   "cell_type": "markdown",
   "metadata": {},
   "source": [
    "### 2.2 R的所有操作都是函数操作\n",
    "\n",
    "例如赋值操作`a <- 1:10`会被解析为下面的函数表达式：\n",
    "\n",
    "```\n",
    "> assign('b',seq(1:10));b\n",
    " [1]  1  2  3  4  5  6  7  8  9 10\n",
    "```"
   ]
  },
  {
   "cell_type": "code",
   "execution_count": 1,
   "metadata": {},
   "outputs": [
    {
     "data": {
      "text/html": [
       "<ol class=list-inline>\n",
       "\t<li>1</li>\n",
       "\t<li>2</li>\n",
       "\t<li>3</li>\n",
       "\t<li>4</li>\n",
       "\t<li>5</li>\n",
       "\t<li>6</li>\n",
       "\t<li>7</li>\n",
       "\t<li>8</li>\n",
       "\t<li>9</li>\n",
       "\t<li>10</li>\n",
       "</ol>\n"
      ],
      "text/latex": [
       "\\begin{enumerate*}\n",
       "\\item 1\n",
       "\\item 2\n",
       "\\item 3\n",
       "\\item 4\n",
       "\\item 5\n",
       "\\item 6\n",
       "\\item 7\n",
       "\\item 8\n",
       "\\item 9\n",
       "\\item 10\n",
       "\\end{enumerate*}\n"
      ],
      "text/markdown": [
       "1. 1\n",
       "2. 2\n",
       "3. 3\n",
       "4. 4\n",
       "5. 5\n",
       "6. 6\n",
       "7. 7\n",
       "8. 8\n",
       "9. 9\n",
       "10. 10\n",
       "\n",
       "\n"
      ],
      "text/plain": [
       " [1]  1  2  3  4  5  6  7  8  9 10"
      ]
     },
     "metadata": {},
     "output_type": "display_data"
    }
   ],
   "source": [
    "a <- 1:10\n",
    "a"
   ]
  },
  {
   "cell_type": "markdown",
   "metadata": {},
   "source": [
    "`1:10`对应`seq()`函数，`<-`对应`assign()`函数"
   ]
  },
  {
   "cell_type": "code",
   "execution_count": 2,
   "metadata": {},
   "outputs": [
    {
     "data": {
      "text/html": [
       "<ol class=list-inline>\n",
       "\t<li>1</li>\n",
       "\t<li>2</li>\n",
       "\t<li>3</li>\n",
       "\t<li>4</li>\n",
       "\t<li>5</li>\n",
       "\t<li>6</li>\n",
       "\t<li>7</li>\n",
       "\t<li>8</li>\n",
       "\t<li>9</li>\n",
       "\t<li>10</li>\n",
       "</ol>\n"
      ],
      "text/latex": [
       "\\begin{enumerate*}\n",
       "\\item 1\n",
       "\\item 2\n",
       "\\item 3\n",
       "\\item 4\n",
       "\\item 5\n",
       "\\item 6\n",
       "\\item 7\n",
       "\\item 8\n",
       "\\item 9\n",
       "\\item 10\n",
       "\\end{enumerate*}\n"
      ],
      "text/markdown": [
       "1. 1\n",
       "2. 2\n",
       "3. 3\n",
       "4. 4\n",
       "5. 5\n",
       "6. 6\n",
       "7. 7\n",
       "8. 8\n",
       "9. 9\n",
       "10. 10\n",
       "\n",
       "\n"
      ],
      "text/plain": [
       " [1]  1  2  3  4  5  6  7  8  9 10"
      ]
     },
     "metadata": {},
     "output_type": "display_data"
    }
   ],
   "source": [
    "assign('b',seq(1:10));b"
   ]
  },
  {
   "cell_type": "markdown",
   "metadata": {},
   "source": [
    "### 2.3 向量化计算\n",
    "向量化是一种特殊并行计算方式。在R中，向量是R的基本数据类型(vector)，当你对一个向量进行操作时，程序会对向量中每个元素进行分别计算，计算结果以向量的形式返回。比如，最常见的两个等长的向量相加："
   ]
  },
  {
   "cell_type": "code",
   "execution_count": 3,
   "metadata": {},
   "outputs": [
    {
     "name": "stdout",
     "output_type": "stream",
     "text": [
      "1 2 3 4 5 6 7 8 9 10"
     ]
    }
   ],
   "source": [
    "a1 <- 1:10\n",
    "cat(a1)"
   ]
  },
  {
   "cell_type": "code",
   "execution_count": 4,
   "metadata": {},
   "outputs": [
    {
     "name": "stdout",
     "output_type": "stream",
     "text": [
      "10 9 8 7 6 5 4 3 2 1"
     ]
    }
   ],
   "source": [
    "b1 <- 10:1\n",
    "cat(b1)"
   ]
  },
  {
   "cell_type": "code",
   "execution_count": 5,
   "metadata": {},
   "outputs": [
    {
     "name": "stdout",
     "output_type": "stream",
     "text": [
      "11 11 11 11 11 11 11 11 11 11"
     ]
    }
   ],
   "source": [
    "cat(a1 + b1)  # 两个向量对应元素相加"
   ]
  },
  {
   "cell_type": "code",
   "execution_count": 6,
   "metadata": {},
   "outputs": [
    {
     "name": "stdout",
     "output_type": "stream",
     "text": [
      "10 18 24 28 30 30 28 24 18 10"
     ]
    }
   ],
   "source": [
    "cat(a1 * b1)  # 两个向量对应元素相乘"
   ]
  },
  {
   "cell_type": "markdown",
   "metadata": {},
   "source": [
    "## 3. R语言中的关键字\n",
    "由于R语言所有的操作都是函数式操作，因此相对于其他编程语言，R语言中的关键字(函数名称)特别多；\n",
    "\n",
    "每一个关键字都可以执行一个特定的功能(函数操作或结构控制等)，使用起来非常方便，但是很难掌握这么多的关键字。\n",
    "- 参考更多\"关键字\"相关信息：https://stackoverflow.com/questions/18562583/list-of-all-the-r-keywords"
   ]
  },
  {
   "cell_type": "markdown",
   "metadata": {},
   "source": [
    "### 3.1 使用`ls('package:base')`\n",
    "该命令可以列出1223个在`base`包中可以直接调用的关键字"
   ]
  },
  {
   "cell_type": "code",
   "execution_count": 7,
   "metadata": {},
   "outputs": [
    {
     "data": {
      "text/html": [
       "1223"
      ],
      "text/latex": [
       "1223"
      ],
      "text/markdown": [
       "1223"
      ],
      "text/plain": [
       "[1] 1223"
      ]
     },
     "metadata": {},
     "output_type": "display_data"
    }
   ],
   "source": [
    "length(ls('package:base'))"
   ]
  },
  {
   "cell_type": "code",
   "execution_count": 8,
   "metadata": {},
   "outputs": [
    {
     "data": {
      "text/html": [
       "<ol class=list-inline>\n",
       "\t<li>'-'</li>\n",
       "\t<li>'-.Date'</li>\n",
       "\t<li>'-.POSIXt'</li>\n",
       "\t<li>'!'</li>\n",
       "\t<li>'!.hexmode'</li>\n",
       "\t<li>'!.octmode'</li>\n",
       "</ol>\n"
      ],
      "text/latex": [
       "\\begin{enumerate*}\n",
       "\\item '-'\n",
       "\\item '-.Date'\n",
       "\\item '-.POSIXt'\n",
       "\\item '!'\n",
       "\\item '!.hexmode'\n",
       "\\item '!.octmode'\n",
       "\\end{enumerate*}\n"
      ],
      "text/markdown": [
       "1. '-'\n",
       "2. '-.Date'\n",
       "3. '-.POSIXt'\n",
       "4. '!'\n",
       "5. '!.hexmode'\n",
       "6. '!.octmode'\n",
       "\n",
       "\n"
      ],
      "text/plain": [
       "[1] \"-\"         \"-.Date\"    \"-.POSIXt\"  \"!\"         \"!.hexmode\" \"!.octmode\""
      ]
     },
     "metadata": {},
     "output_type": "display_data"
    }
   ],
   "source": [
    "head(ls('package:base'))  # 这里仅展示了前6个关键字"
   ]
  },
  {
   "cell_type": "markdown",
   "metadata": {},
   "source": [
    "### 3.2 R Language Definition\n",
    "R语言中关键字的定义\n",
    "- https://cran.r-project.org/doc/manuals/R-lang.pdf"
   ]
  },
  {
   "cell_type": "code",
   "execution_count": null,
   "metadata": {},
   "outputs": [],
   "source": []
  }
 ],
 "metadata": {
  "kernelspec": {
   "display_name": "R",
   "language": "R",
   "name": "ir"
  },
  "language_info": {
   "codemirror_mode": "r",
   "file_extension": ".r",
   "mimetype": "text/x-r-source",
   "name": "R",
   "pygments_lexer": "r",
   "version": "3.4.3"
  }
 },
 "nbformat": 4,
 "nbformat_minor": 2
}
